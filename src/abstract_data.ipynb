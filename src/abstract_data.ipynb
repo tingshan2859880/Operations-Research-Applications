{
 "metadata": {
  "language_info": {
   "codemirror_mode": {
    "name": "ipython",
    "version": 3
   },
   "file_extension": ".py",
   "mimetype": "text/x-python",
   "name": "python",
   "nbconvert_exporter": "python",
   "pygments_lexer": "ipython3",
   "version": "3.7.6-final"
  },
  "orig_nbformat": 2,
  "kernelspec": {
   "name": "python3",
   "display_name": "Python 3",
   "language": "python"
  }
 },
 "nbformat": 4,
 "nbformat_minor": 2,
 "cells": [
  {
   "source": [
    "# 模糊化資料"
   ],
   "cell_type": "markdown",
   "metadata": {}
  },
  {
   "cell_type": "code",
   "execution_count": 1,
   "metadata": {},
   "outputs": [],
   "source": [
    "import pandas as pd\n",
    "from sklearn.preprocessing import StandardScaler\n",
    "import numpy as np\n",
    "from sklearn.impute import KNNImputer\n",
    "import matplotlib.pyplot as plt"
   ]
  },
  {
   "cell_type": "code",
   "execution_count": 4,
   "metadata": {},
   "outputs": [],
   "source": [
    "all_withtraffic = pd.read_excel(\"all_withtraffic.xlsx\")"
   ]
  },
  {
   "cell_type": "code",
   "execution_count": 5,
   "metadata": {},
   "outputs": [
    {
     "output_type": "execute_result",
     "data": {
      "text/plain": [
       "          BrandName  CustCode   ProdtCode   SlipDate TA性別           layer1  \\\n",
       "0      Lifestyle373    B01125  1901083031 2020-01-30   中性  TIER 2 to 3 復古鞋   \n",
       "1          PERFCRUZ    B01125  1901083344 2020-01-30   中性             緩震跑鞋   \n",
       "2      Lifestyle574    B01125  1901083469 2020-01-30   女性       TIER 2 復古鞋   \n",
       "3          PERFNRGS    B01125  1901080567 2020-02-03   女性       女性專用多功能訓練鞋   \n",
       "4      Lifestyle500    B01125  1901081403 2020-01-20   女性        500 經典復古鞋   \n",
       "...             ...       ...         ...        ...  ...              ...   \n",
       "51269  Lifestyle997  B02008-5  1901082276 2020-09-28   中性       TIER 2 復古鞋   \n",
       "51270       PERF480  B02008-5  1901083382 2020-09-28   女性             緩震跑鞋   \n",
       "51271  Lifestyle996  B02008-5  1901080303 2020-09-29   中性    TIER 3 復古鞋/童鞋   \n",
       "51272  Lifestyle997  B02008-5  1901086336 2020-09-29   中性       TIER 2 復古鞋   \n",
       "51273  Lifestyle300  B02008-5  1901083554 2020-09-30   女性  TIER 2 to 3 復古鞋   \n",
       "\n",
       "       layer2    layer3        layer4  month  ...    金額  顏色 類型            貨號  \\\n",
       "0       LF373  ML373MTD  ML373MTDD100      1  ...  1564  鐵灰  鞋  ML373MTDD100   \n",
       "1      PFCRUZ  UCRUZGB2  UCRUZGB2D110      1  ...  1761  白色  鞋  UCRUZGB2D110   \n",
       "2       LF574  WL574WNO  WL574WNOB065      1  ...  1904  淺灰  鞋  WL574WNOB065   \n",
       "3      PFNRGS  WNRGSSB1  WNRGSSB1D070      2  ...  4884  灰色  鞋  WNRGSSB1D070   \n",
       "4       LF500  GW500NPK  GW500NPKB060      1  ...  1343  桃紅  鞋  GW500NPKB060   \n",
       "...       ...       ...           ...    ...  ...   ...  .. ..           ...   \n",
       "51269   LF997   MS997HN   MS997HND090      9  ...  2056  黑色  鞋   MS997HND090   \n",
       "51270   PF480   W480SG5  W480SG54E065      9  ...  1219  灰色  鞋  W480SG54E065   \n",
       "51271   LF996  IZ996PAC  IZ996PACW090      9  ...   888  淺紫  鞋  IZ996PACW090   \n",
       "51272   LF997  CM997HCB  CM997HCBD065      9  ...  1628  牙白  鞋  CM997HCBD065   \n",
       "51273   LF300  WRT300TK  WRT300TKB080      9  ...  2425  牙白  鞋  WRT300TKB080   \n",
       "\n",
       "       建議售價      momo_瀏覽數     momo_造訪數    yahoo_瀏覽量    shopee_瀏覽數   shopee_造訪數  \n",
       "0      2350  18496.571429  1627.428571          NaN   9867.142857  3910.285714  \n",
       "1      3650  18496.571429  1627.428571          NaN   9867.142857  3910.285714  \n",
       "2      2850  18496.571429  1627.428571          NaN   9867.142857  3910.285714  \n",
       "3      2380  20883.857143  1912.000000          NaN  14159.714286  3185.714286  \n",
       "4      2350  14121.428571  1343.000000          NaN   4723.285714  2548.142857  \n",
       "...     ...           ...          ...          ...           ...          ...  \n",
       "51269  3650  59880.666667  5798.666667  5861.333333   8383.333333  2009.333333  \n",
       "51270  2450  59880.666667  5798.666667  5861.333333   8383.333333  2009.333333  \n",
       "51271  1480  59880.666667  5798.666667  5861.333333   8383.333333  2009.333333  \n",
       "51272  2850  59880.666667  5798.666667  5861.333333   8383.333333  2009.333333  \n",
       "51273  2650  59880.666667  5798.666667  5861.333333   8383.333333  2009.333333  \n",
       "\n",
       "[51274 rows x 28 columns]"
      ],
      "text/html": "<div>\n<style scoped>\n    .dataframe tbody tr th:only-of-type {\n        vertical-align: middle;\n    }\n\n    .dataframe tbody tr th {\n        vertical-align: top;\n    }\n\n    .dataframe thead th {\n        text-align: right;\n    }\n</style>\n<table border=\"1\" class=\"dataframe\">\n  <thead>\n    <tr style=\"text-align: right;\">\n      <th></th>\n      <th>BrandName</th>\n      <th>CustCode</th>\n      <th>ProdtCode</th>\n      <th>SlipDate</th>\n      <th>TA性別</th>\n      <th>layer1</th>\n      <th>layer2</th>\n      <th>layer3</th>\n      <th>layer4</th>\n      <th>month</th>\n      <th>...</th>\n      <th>金額</th>\n      <th>顏色</th>\n      <th>類型</th>\n      <th>貨號</th>\n      <th>建議售價</th>\n      <th>momo_瀏覽數</th>\n      <th>momo_造訪數</th>\n      <th>yahoo_瀏覽量</th>\n      <th>shopee_瀏覽數</th>\n      <th>shopee_造訪數</th>\n    </tr>\n  </thead>\n  <tbody>\n    <tr>\n      <th>0</th>\n      <td>Lifestyle373</td>\n      <td>B01125</td>\n      <td>1901083031</td>\n      <td>2020-01-30</td>\n      <td>中性</td>\n      <td>TIER 2 to 3 復古鞋</td>\n      <td>LF373</td>\n      <td>ML373MTD</td>\n      <td>ML373MTDD100</td>\n      <td>1</td>\n      <td>...</td>\n      <td>1564</td>\n      <td>鐵灰</td>\n      <td>鞋</td>\n      <td>ML373MTDD100</td>\n      <td>2350</td>\n      <td>18496.571429</td>\n      <td>1627.428571</td>\n      <td>NaN</td>\n      <td>9867.142857</td>\n      <td>3910.285714</td>\n    </tr>\n    <tr>\n      <th>1</th>\n      <td>PERFCRUZ</td>\n      <td>B01125</td>\n      <td>1901083344</td>\n      <td>2020-01-30</td>\n      <td>中性</td>\n      <td>緩震跑鞋</td>\n      <td>PFCRUZ</td>\n      <td>UCRUZGB2</td>\n      <td>UCRUZGB2D110</td>\n      <td>1</td>\n      <td>...</td>\n      <td>1761</td>\n      <td>白色</td>\n      <td>鞋</td>\n      <td>UCRUZGB2D110</td>\n      <td>3650</td>\n      <td>18496.571429</td>\n      <td>1627.428571</td>\n      <td>NaN</td>\n      <td>9867.142857</td>\n      <td>3910.285714</td>\n    </tr>\n    <tr>\n      <th>2</th>\n      <td>Lifestyle574</td>\n      <td>B01125</td>\n      <td>1901083469</td>\n      <td>2020-01-30</td>\n      <td>女性</td>\n      <td>TIER 2 復古鞋</td>\n      <td>LF574</td>\n      <td>WL574WNO</td>\n      <td>WL574WNOB065</td>\n      <td>1</td>\n      <td>...</td>\n      <td>1904</td>\n      <td>淺灰</td>\n      <td>鞋</td>\n      <td>WL574WNOB065</td>\n      <td>2850</td>\n      <td>18496.571429</td>\n      <td>1627.428571</td>\n      <td>NaN</td>\n      <td>9867.142857</td>\n      <td>3910.285714</td>\n    </tr>\n    <tr>\n      <th>3</th>\n      <td>PERFNRGS</td>\n      <td>B01125</td>\n      <td>1901080567</td>\n      <td>2020-02-03</td>\n      <td>女性</td>\n      <td>女性專用多功能訓練鞋</td>\n      <td>PFNRGS</td>\n      <td>WNRGSSB1</td>\n      <td>WNRGSSB1D070</td>\n      <td>2</td>\n      <td>...</td>\n      <td>4884</td>\n      <td>灰色</td>\n      <td>鞋</td>\n      <td>WNRGSSB1D070</td>\n      <td>2380</td>\n      <td>20883.857143</td>\n      <td>1912.000000</td>\n      <td>NaN</td>\n      <td>14159.714286</td>\n      <td>3185.714286</td>\n    </tr>\n    <tr>\n      <th>4</th>\n      <td>Lifestyle500</td>\n      <td>B01125</td>\n      <td>1901081403</td>\n      <td>2020-01-20</td>\n      <td>女性</td>\n      <td>500 經典復古鞋</td>\n      <td>LF500</td>\n      <td>GW500NPK</td>\n      <td>GW500NPKB060</td>\n      <td>1</td>\n      <td>...</td>\n      <td>1343</td>\n      <td>桃紅</td>\n      <td>鞋</td>\n      <td>GW500NPKB060</td>\n      <td>2350</td>\n      <td>14121.428571</td>\n      <td>1343.000000</td>\n      <td>NaN</td>\n      <td>4723.285714</td>\n      <td>2548.142857</td>\n    </tr>\n    <tr>\n      <th>...</th>\n      <td>...</td>\n      <td>...</td>\n      <td>...</td>\n      <td>...</td>\n      <td>...</td>\n      <td>...</td>\n      <td>...</td>\n      <td>...</td>\n      <td>...</td>\n      <td>...</td>\n      <td>...</td>\n      <td>...</td>\n      <td>...</td>\n      <td>...</td>\n      <td>...</td>\n      <td>...</td>\n      <td>...</td>\n      <td>...</td>\n      <td>...</td>\n      <td>...</td>\n      <td>...</td>\n    </tr>\n    <tr>\n      <th>51269</th>\n      <td>Lifestyle997</td>\n      <td>B02008-5</td>\n      <td>1901082276</td>\n      <td>2020-09-28</td>\n      <td>中性</td>\n      <td>TIER 2 復古鞋</td>\n      <td>LF997</td>\n      <td>MS997HN</td>\n      <td>MS997HND090</td>\n      <td>9</td>\n      <td>...</td>\n      <td>2056</td>\n      <td>黑色</td>\n      <td>鞋</td>\n      <td>MS997HND090</td>\n      <td>3650</td>\n      <td>59880.666667</td>\n      <td>5798.666667</td>\n      <td>5861.333333</td>\n      <td>8383.333333</td>\n      <td>2009.333333</td>\n    </tr>\n    <tr>\n      <th>51270</th>\n      <td>PERF480</td>\n      <td>B02008-5</td>\n      <td>1901083382</td>\n      <td>2020-09-28</td>\n      <td>女性</td>\n      <td>緩震跑鞋</td>\n      <td>PF480</td>\n      <td>W480SG5</td>\n      <td>W480SG54E065</td>\n      <td>9</td>\n      <td>...</td>\n      <td>1219</td>\n      <td>灰色</td>\n      <td>鞋</td>\n      <td>W480SG54E065</td>\n      <td>2450</td>\n      <td>59880.666667</td>\n      <td>5798.666667</td>\n      <td>5861.333333</td>\n      <td>8383.333333</td>\n      <td>2009.333333</td>\n    </tr>\n    <tr>\n      <th>51271</th>\n      <td>Lifestyle996</td>\n      <td>B02008-5</td>\n      <td>1901080303</td>\n      <td>2020-09-29</td>\n      <td>中性</td>\n      <td>TIER 3 復古鞋/童鞋</td>\n      <td>LF996</td>\n      <td>IZ996PAC</td>\n      <td>IZ996PACW090</td>\n      <td>9</td>\n      <td>...</td>\n      <td>888</td>\n      <td>淺紫</td>\n      <td>鞋</td>\n      <td>IZ996PACW090</td>\n      <td>1480</td>\n      <td>59880.666667</td>\n      <td>5798.666667</td>\n      <td>5861.333333</td>\n      <td>8383.333333</td>\n      <td>2009.333333</td>\n    </tr>\n    <tr>\n      <th>51272</th>\n      <td>Lifestyle997</td>\n      <td>B02008-5</td>\n      <td>1901086336</td>\n      <td>2020-09-29</td>\n      <td>中性</td>\n      <td>TIER 2 復古鞋</td>\n      <td>LF997</td>\n      <td>CM997HCB</td>\n      <td>CM997HCBD065</td>\n      <td>9</td>\n      <td>...</td>\n      <td>1628</td>\n      <td>牙白</td>\n      <td>鞋</td>\n      <td>CM997HCBD065</td>\n      <td>2850</td>\n      <td>59880.666667</td>\n      <td>5798.666667</td>\n      <td>5861.333333</td>\n      <td>8383.333333</td>\n      <td>2009.333333</td>\n    </tr>\n    <tr>\n      <th>51273</th>\n      <td>Lifestyle300</td>\n      <td>B02008-5</td>\n      <td>1901083554</td>\n      <td>2020-09-30</td>\n      <td>女性</td>\n      <td>TIER 2 to 3 復古鞋</td>\n      <td>LF300</td>\n      <td>WRT300TK</td>\n      <td>WRT300TKB080</td>\n      <td>9</td>\n      <td>...</td>\n      <td>2425</td>\n      <td>牙白</td>\n      <td>鞋</td>\n      <td>WRT300TKB080</td>\n      <td>2650</td>\n      <td>59880.666667</td>\n      <td>5798.666667</td>\n      <td>5861.333333</td>\n      <td>8383.333333</td>\n      <td>2009.333333</td>\n    </tr>\n  </tbody>\n</table>\n<p>51274 rows × 28 columns</p>\n</div>"
     },
     "metadata": {},
     "execution_count": 5
    }
   ],
   "source": [
    "all_withtraffic"
   ]
  },
  {
   "cell_type": "code",
   "execution_count": 6,
   "metadata": {},
   "outputs": [],
   "source": [
    "LF574 = all_withtraffic[(all_withtraffic['layer2'] == \"LF574\") & (all_withtraffic['TA性別'] == \"女性\") & (all_withtraffic['建議售價'].isin([2880, 2850])) & (all_withtraffic['客戶名稱'].isin(['蝦皮', 'YAHOO', 'MOMO']))]\n"
   ]
  },
  {
   "cell_type": "code",
   "execution_count": 7,
   "metadata": {},
   "outputs": [
    {
     "output_type": "execute_result",
     "data": {
      "text/plain": [
       "          BrandName  CustCode   ProdtCode   SlipDate TA性別      layer1 layer2  \\\n",
       "2      Lifestyle574    B01125  1901083469 2020-01-30   女性  TIER 2 復古鞋  LF574   \n",
       "22     Lifestyle574    B01125  1901083463 2020-02-21   女性  TIER 2 復古鞋  LF574   \n",
       "23     Lifestyle574    B01125  1901083471 2020-02-21   女性  TIER 2 復古鞋  LF574   \n",
       "24     Lifestyle574    B01125  1901083463 2020-02-24   女性  TIER 2 復古鞋  LF574   \n",
       "25     Lifestyle574    B01125  1901083471 2020-02-24   女性  TIER 2 復古鞋  LF574   \n",
       "...             ...       ...         ...        ...  ...         ...    ...   \n",
       "51061  Lifestyle574  B02008-5  1901084295 2020-09-28   女性  TIER 3 復古鞋  LF574   \n",
       "51127  Lifestyle574  B02008-5  1901086460 2020-07-10   女性  TIER 3 復古鞋  LF574   \n",
       "51167  Lifestyle574  B02008-5  1901086460 2020-08-12   女性  TIER 3 復古鞋  LF574   \n",
       "51184  Lifestyle574  B02008-5  1901086460 2020-08-27   女性  TIER 3 復古鞋  LF574   \n",
       "51256  Lifestyle574  B02008-5  1901086458 2020-09-18   女性  TIER 3 復古鞋  LF574   \n",
       "\n",
       "         layer3        layer4  month  ...    金額  顏色 類型            貨號  建議售價  \\\n",
       "2      WL574WNO  WL574WNOB065      1  ...  1904  淺灰  鞋  WL574WNOB065  2850   \n",
       "22     WL574WNK  WL574WNKB080      2  ...  1809  灰色  鞋  WL574WNKB080  2850   \n",
       "23     WL574WNO  WL574WNOB075      2  ...  1809  淺灰  鞋  WL574WNOB075  2850   \n",
       "24     WL574WNK  WL574WNKB080      2  ...  1628  灰色  鞋  WL574WNKB080  2850   \n",
       "25     WL574WNO  WL574WNOB075      2  ...  3618  淺灰  鞋  WL574WNOB075  2850   \n",
       "...         ...           ...    ...  ...   ...  .. ..           ...   ...   \n",
       "51061  WL574BCM  WL574BCMB080      9  ...  2017  深藍  鞋  WL574BCMB080  2880   \n",
       "51127  WL574SAX  WL574SAXB075      7  ...  1761  粉紫  鞋  WL574SAXB075  2880   \n",
       "51167  WL574SAX  WL574SAXB075      8  ...  1889  粉紫  鞋  WL574SAXB075  2880   \n",
       "51184  WL574SAX  WL574SAXB075      8  ...  1894  粉紫  鞋  WL574SAXB075  2880   \n",
       "51256  WL574SAX  WL574SAXB065      9  ...  1766  粉紫  鞋  WL574SAXB065  2880   \n",
       "\n",
       "            momo_瀏覽數      momo_造訪數    yahoo_瀏覽量    shopee_瀏覽數    shopee_造訪數  \n",
       "2       18496.571429   1627.428571          NaN   9867.142857   3910.285714  \n",
       "22      30256.857143   3011.285714          NaN  60377.285714  15330.714286  \n",
       "23      30256.857143   3011.285714          NaN  60377.285714  15330.714286  \n",
       "24      29053.571429   2733.714286  3372.000000  11014.285714   2451.857143  \n",
       "25      29053.571429   2733.714286  3372.000000  11014.285714   2451.857143  \n",
       "...              ...           ...          ...           ...           ...  \n",
       "51061   59880.666667   5798.666667  5861.333333   8383.333333   2009.333333  \n",
       "51127   38974.142857   4255.285714  6117.571429  18757.571429   4199.857143  \n",
       "51167   72475.714286   7058.428571  6774.571429  15803.285714   4646.714286  \n",
       "51184   65749.857143   6570.428571  3960.142857   5646.857143   1606.285714  \n",
       "51256  139629.428571  13142.571429  4525.714286  12058.285714   3056.857143  \n",
       "\n",
       "[2623 rows x 28 columns]"
      ],
      "text/html": "<div>\n<style scoped>\n    .dataframe tbody tr th:only-of-type {\n        vertical-align: middle;\n    }\n\n    .dataframe tbody tr th {\n        vertical-align: top;\n    }\n\n    .dataframe thead th {\n        text-align: right;\n    }\n</style>\n<table border=\"1\" class=\"dataframe\">\n  <thead>\n    <tr style=\"text-align: right;\">\n      <th></th>\n      <th>BrandName</th>\n      <th>CustCode</th>\n      <th>ProdtCode</th>\n      <th>SlipDate</th>\n      <th>TA性別</th>\n      <th>layer1</th>\n      <th>layer2</th>\n      <th>layer3</th>\n      <th>layer4</th>\n      <th>month</th>\n      <th>...</th>\n      <th>金額</th>\n      <th>顏色</th>\n      <th>類型</th>\n      <th>貨號</th>\n      <th>建議售價</th>\n      <th>momo_瀏覽數</th>\n      <th>momo_造訪數</th>\n      <th>yahoo_瀏覽量</th>\n      <th>shopee_瀏覽數</th>\n      <th>shopee_造訪數</th>\n    </tr>\n  </thead>\n  <tbody>\n    <tr>\n      <th>2</th>\n      <td>Lifestyle574</td>\n      <td>B01125</td>\n      <td>1901083469</td>\n      <td>2020-01-30</td>\n      <td>女性</td>\n      <td>TIER 2 復古鞋</td>\n      <td>LF574</td>\n      <td>WL574WNO</td>\n      <td>WL574WNOB065</td>\n      <td>1</td>\n      <td>...</td>\n      <td>1904</td>\n      <td>淺灰</td>\n      <td>鞋</td>\n      <td>WL574WNOB065</td>\n      <td>2850</td>\n      <td>18496.571429</td>\n      <td>1627.428571</td>\n      <td>NaN</td>\n      <td>9867.142857</td>\n      <td>3910.285714</td>\n    </tr>\n    <tr>\n      <th>22</th>\n      <td>Lifestyle574</td>\n      <td>B01125</td>\n      <td>1901083463</td>\n      <td>2020-02-21</td>\n      <td>女性</td>\n      <td>TIER 2 復古鞋</td>\n      <td>LF574</td>\n      <td>WL574WNK</td>\n      <td>WL574WNKB080</td>\n      <td>2</td>\n      <td>...</td>\n      <td>1809</td>\n      <td>灰色</td>\n      <td>鞋</td>\n      <td>WL574WNKB080</td>\n      <td>2850</td>\n      <td>30256.857143</td>\n      <td>3011.285714</td>\n      <td>NaN</td>\n      <td>60377.285714</td>\n      <td>15330.714286</td>\n    </tr>\n    <tr>\n      <th>23</th>\n      <td>Lifestyle574</td>\n      <td>B01125</td>\n      <td>1901083471</td>\n      <td>2020-02-21</td>\n      <td>女性</td>\n      <td>TIER 2 復古鞋</td>\n      <td>LF574</td>\n      <td>WL574WNO</td>\n      <td>WL574WNOB075</td>\n      <td>2</td>\n      <td>...</td>\n      <td>1809</td>\n      <td>淺灰</td>\n      <td>鞋</td>\n      <td>WL574WNOB075</td>\n      <td>2850</td>\n      <td>30256.857143</td>\n      <td>3011.285714</td>\n      <td>NaN</td>\n      <td>60377.285714</td>\n      <td>15330.714286</td>\n    </tr>\n    <tr>\n      <th>24</th>\n      <td>Lifestyle574</td>\n      <td>B01125</td>\n      <td>1901083463</td>\n      <td>2020-02-24</td>\n      <td>女性</td>\n      <td>TIER 2 復古鞋</td>\n      <td>LF574</td>\n      <td>WL574WNK</td>\n      <td>WL574WNKB080</td>\n      <td>2</td>\n      <td>...</td>\n      <td>1628</td>\n      <td>灰色</td>\n      <td>鞋</td>\n      <td>WL574WNKB080</td>\n      <td>2850</td>\n      <td>29053.571429</td>\n      <td>2733.714286</td>\n      <td>3372.000000</td>\n      <td>11014.285714</td>\n      <td>2451.857143</td>\n    </tr>\n    <tr>\n      <th>25</th>\n      <td>Lifestyle574</td>\n      <td>B01125</td>\n      <td>1901083471</td>\n      <td>2020-02-24</td>\n      <td>女性</td>\n      <td>TIER 2 復古鞋</td>\n      <td>LF574</td>\n      <td>WL574WNO</td>\n      <td>WL574WNOB075</td>\n      <td>2</td>\n      <td>...</td>\n      <td>3618</td>\n      <td>淺灰</td>\n      <td>鞋</td>\n      <td>WL574WNOB075</td>\n      <td>2850</td>\n      <td>29053.571429</td>\n      <td>2733.714286</td>\n      <td>3372.000000</td>\n      <td>11014.285714</td>\n      <td>2451.857143</td>\n    </tr>\n    <tr>\n      <th>...</th>\n      <td>...</td>\n      <td>...</td>\n      <td>...</td>\n      <td>...</td>\n      <td>...</td>\n      <td>...</td>\n      <td>...</td>\n      <td>...</td>\n      <td>...</td>\n      <td>...</td>\n      <td>...</td>\n      <td>...</td>\n      <td>...</td>\n      <td>...</td>\n      <td>...</td>\n      <td>...</td>\n      <td>...</td>\n      <td>...</td>\n      <td>...</td>\n      <td>...</td>\n      <td>...</td>\n    </tr>\n    <tr>\n      <th>51061</th>\n      <td>Lifestyle574</td>\n      <td>B02008-5</td>\n      <td>1901084295</td>\n      <td>2020-09-28</td>\n      <td>女性</td>\n      <td>TIER 3 復古鞋</td>\n      <td>LF574</td>\n      <td>WL574BCM</td>\n      <td>WL574BCMB080</td>\n      <td>9</td>\n      <td>...</td>\n      <td>2017</td>\n      <td>深藍</td>\n      <td>鞋</td>\n      <td>WL574BCMB080</td>\n      <td>2880</td>\n      <td>59880.666667</td>\n      <td>5798.666667</td>\n      <td>5861.333333</td>\n      <td>8383.333333</td>\n      <td>2009.333333</td>\n    </tr>\n    <tr>\n      <th>51127</th>\n      <td>Lifestyle574</td>\n      <td>B02008-5</td>\n      <td>1901086460</td>\n      <td>2020-07-10</td>\n      <td>女性</td>\n      <td>TIER 3 復古鞋</td>\n      <td>LF574</td>\n      <td>WL574SAX</td>\n      <td>WL574SAXB075</td>\n      <td>7</td>\n      <td>...</td>\n      <td>1761</td>\n      <td>粉紫</td>\n      <td>鞋</td>\n      <td>WL574SAXB075</td>\n      <td>2880</td>\n      <td>38974.142857</td>\n      <td>4255.285714</td>\n      <td>6117.571429</td>\n      <td>18757.571429</td>\n      <td>4199.857143</td>\n    </tr>\n    <tr>\n      <th>51167</th>\n      <td>Lifestyle574</td>\n      <td>B02008-5</td>\n      <td>1901086460</td>\n      <td>2020-08-12</td>\n      <td>女性</td>\n      <td>TIER 3 復古鞋</td>\n      <td>LF574</td>\n      <td>WL574SAX</td>\n      <td>WL574SAXB075</td>\n      <td>8</td>\n      <td>...</td>\n      <td>1889</td>\n      <td>粉紫</td>\n      <td>鞋</td>\n      <td>WL574SAXB075</td>\n      <td>2880</td>\n      <td>72475.714286</td>\n      <td>7058.428571</td>\n      <td>6774.571429</td>\n      <td>15803.285714</td>\n      <td>4646.714286</td>\n    </tr>\n    <tr>\n      <th>51184</th>\n      <td>Lifestyle574</td>\n      <td>B02008-5</td>\n      <td>1901086460</td>\n      <td>2020-08-27</td>\n      <td>女性</td>\n      <td>TIER 3 復古鞋</td>\n      <td>LF574</td>\n      <td>WL574SAX</td>\n      <td>WL574SAXB075</td>\n      <td>8</td>\n      <td>...</td>\n      <td>1894</td>\n      <td>粉紫</td>\n      <td>鞋</td>\n      <td>WL574SAXB075</td>\n      <td>2880</td>\n      <td>65749.857143</td>\n      <td>6570.428571</td>\n      <td>3960.142857</td>\n      <td>5646.857143</td>\n      <td>1606.285714</td>\n    </tr>\n    <tr>\n      <th>51256</th>\n      <td>Lifestyle574</td>\n      <td>B02008-5</td>\n      <td>1901086458</td>\n      <td>2020-09-18</td>\n      <td>女性</td>\n      <td>TIER 3 復古鞋</td>\n      <td>LF574</td>\n      <td>WL574SAX</td>\n      <td>WL574SAXB065</td>\n      <td>9</td>\n      <td>...</td>\n      <td>1766</td>\n      <td>粉紫</td>\n      <td>鞋</td>\n      <td>WL574SAXB065</td>\n      <td>2880</td>\n      <td>139629.428571</td>\n      <td>13142.571429</td>\n      <td>4525.714286</td>\n      <td>12058.285714</td>\n      <td>3056.857143</td>\n    </tr>\n  </tbody>\n</table>\n<p>2623 rows × 28 columns</p>\n</div>"
     },
     "metadata": {},
     "execution_count": 7
    }
   ],
   "source": [
    "LF574"
   ]
  },
  {
   "cell_type": "code",
   "execution_count": 8,
   "metadata": {},
   "outputs": [],
   "source": [
    "LF574.reset_index(drop=True, inplace=True)"
   ]
  },
  {
   "cell_type": "code",
   "execution_count": 9,
   "metadata": {},
   "outputs": [
    {
     "output_type": "execute_result",
     "data": {
      "text/plain": [
       "Index(['BrandName', 'CustCode', 'ProdtCode', 'SlipDate', 'TA性別', 'layer1',\n",
       "       'layer2', 'layer3', 'layer4', 'month', 'size_US', 'size_cm', 'week',\n",
       "       '單價', '型號', '客戶名稱', '尺寸', '數量', '金額', '顏色', '類型', '貨號', '建議售價',\n",
       "       'momo_瀏覽數', 'momo_造訪數', 'yahoo_瀏覽量', 'shopee_瀏覽數', 'shopee_造訪數'],\n",
       "      dtype='object')"
      ]
     },
     "metadata": {},
     "execution_count": 9
    }
   ],
   "source": [
    "LF574.columns"
   ]
  },
  {
   "cell_type": "code",
   "execution_count": 10,
   "metadata": {},
   "outputs": [],
   "source": [
    "imputer = KNNImputer(n_neighbors=2)\n",
    "LF574[list(LF574.columns[-5:])] = imputer.fit_transform(LF574[list(LF574.columns[-5:])])"
   ]
  },
  {
   "cell_type": "code",
   "execution_count": 11,
   "metadata": {},
   "outputs": [
    {
     "output_type": "execute_result",
     "data": {
      "text/plain": [
       "         BrandName  CustCode   ProdtCode   SlipDate TA性別      layer1 layer2  \\\n",
       "0     Lifestyle574    B01125  1901083469 2020-01-30   女性  TIER 2 復古鞋  LF574   \n",
       "1     Lifestyle574    B01125  1901083463 2020-02-21   女性  TIER 2 復古鞋  LF574   \n",
       "2     Lifestyle574    B01125  1901083471 2020-02-21   女性  TIER 2 復古鞋  LF574   \n",
       "3     Lifestyle574    B01125  1901083463 2020-02-24   女性  TIER 2 復古鞋  LF574   \n",
       "4     Lifestyle574    B01125  1901083471 2020-02-24   女性  TIER 2 復古鞋  LF574   \n",
       "...            ...       ...         ...        ...  ...         ...    ...   \n",
       "2618  Lifestyle574  B02008-5  1901084295 2020-09-28   女性  TIER 3 復古鞋  LF574   \n",
       "2619  Lifestyle574  B02008-5  1901086460 2020-07-10   女性  TIER 3 復古鞋  LF574   \n",
       "2620  Lifestyle574  B02008-5  1901086460 2020-08-12   女性  TIER 3 復古鞋  LF574   \n",
       "2621  Lifestyle574  B02008-5  1901086460 2020-08-27   女性  TIER 3 復古鞋  LF574   \n",
       "2622  Lifestyle574  B02008-5  1901086458 2020-09-18   女性  TIER 3 復古鞋  LF574   \n",
       "\n",
       "        layer3        layer4  month  ...    金額  顏色 類型            貨號  建議售價  \\\n",
       "0     WL574WNO  WL574WNOB065      1  ...  1904  淺灰  鞋  WL574WNOB065  2850   \n",
       "1     WL574WNK  WL574WNKB080      2  ...  1809  灰色  鞋  WL574WNKB080  2850   \n",
       "2     WL574WNO  WL574WNOB075      2  ...  1809  淺灰  鞋  WL574WNOB075  2850   \n",
       "3     WL574WNK  WL574WNKB080      2  ...  1628  灰色  鞋  WL574WNKB080  2850   \n",
       "4     WL574WNO  WL574WNOB075      2  ...  3618  淺灰  鞋  WL574WNOB075  2850   \n",
       "...        ...           ...    ...  ...   ...  .. ..           ...   ...   \n",
       "2618  WL574BCM  WL574BCMB080      9  ...  2017  深藍  鞋  WL574BCMB080  2880   \n",
       "2619  WL574SAX  WL574SAXB075      7  ...  1761  粉紫  鞋  WL574SAXB075  2880   \n",
       "2620  WL574SAX  WL574SAXB075      8  ...  1889  粉紫  鞋  WL574SAXB075  2880   \n",
       "2621  WL574SAX  WL574SAXB075      8  ...  1894  粉紫  鞋  WL574SAXB075  2880   \n",
       "2622  WL574SAX  WL574SAXB065      9  ...  1766  粉紫  鞋  WL574SAXB065  2880   \n",
       "\n",
       "           momo_瀏覽數      momo_造訪數    yahoo_瀏覽量    shopee_瀏覽數    shopee_造訪數  \n",
       "0      18496.571429   1627.428571  5725.142857   9867.142857   3910.285714  \n",
       "1      30256.857143   3011.285714  5869.714286  60377.285714  15330.714286  \n",
       "2      30256.857143   3011.285714  5869.714286  60377.285714  15330.714286  \n",
       "3      29053.571429   2733.714286  3372.000000  11014.285714   2451.857143  \n",
       "4      29053.571429   2733.714286  3372.000000  11014.285714   2451.857143  \n",
       "...             ...           ...          ...           ...           ...  \n",
       "2618   59880.666667   5798.666667  5861.333333   8383.333333   2009.333333  \n",
       "2619   38974.142857   4255.285714  6117.571429  18757.571429   4199.857143  \n",
       "2620   72475.714286   7058.428571  6774.571429  15803.285714   4646.714286  \n",
       "2621   65749.857143   6570.428571  3960.142857   5646.857143   1606.285714  \n",
       "2622  139629.428571  13142.571429  4525.714286  12058.285714   3056.857143  \n",
       "\n",
       "[2623 rows x 28 columns]"
      ],
      "text/html": "<div>\n<style scoped>\n    .dataframe tbody tr th:only-of-type {\n        vertical-align: middle;\n    }\n\n    .dataframe tbody tr th {\n        vertical-align: top;\n    }\n\n    .dataframe thead th {\n        text-align: right;\n    }\n</style>\n<table border=\"1\" class=\"dataframe\">\n  <thead>\n    <tr style=\"text-align: right;\">\n      <th></th>\n      <th>BrandName</th>\n      <th>CustCode</th>\n      <th>ProdtCode</th>\n      <th>SlipDate</th>\n      <th>TA性別</th>\n      <th>layer1</th>\n      <th>layer2</th>\n      <th>layer3</th>\n      <th>layer4</th>\n      <th>month</th>\n      <th>...</th>\n      <th>金額</th>\n      <th>顏色</th>\n      <th>類型</th>\n      <th>貨號</th>\n      <th>建議售價</th>\n      <th>momo_瀏覽數</th>\n      <th>momo_造訪數</th>\n      <th>yahoo_瀏覽量</th>\n      <th>shopee_瀏覽數</th>\n      <th>shopee_造訪數</th>\n    </tr>\n  </thead>\n  <tbody>\n    <tr>\n      <th>0</th>\n      <td>Lifestyle574</td>\n      <td>B01125</td>\n      <td>1901083469</td>\n      <td>2020-01-30</td>\n      <td>女性</td>\n      <td>TIER 2 復古鞋</td>\n      <td>LF574</td>\n      <td>WL574WNO</td>\n      <td>WL574WNOB065</td>\n      <td>1</td>\n      <td>...</td>\n      <td>1904</td>\n      <td>淺灰</td>\n      <td>鞋</td>\n      <td>WL574WNOB065</td>\n      <td>2850</td>\n      <td>18496.571429</td>\n      <td>1627.428571</td>\n      <td>5725.142857</td>\n      <td>9867.142857</td>\n      <td>3910.285714</td>\n    </tr>\n    <tr>\n      <th>1</th>\n      <td>Lifestyle574</td>\n      <td>B01125</td>\n      <td>1901083463</td>\n      <td>2020-02-21</td>\n      <td>女性</td>\n      <td>TIER 2 復古鞋</td>\n      <td>LF574</td>\n      <td>WL574WNK</td>\n      <td>WL574WNKB080</td>\n      <td>2</td>\n      <td>...</td>\n      <td>1809</td>\n      <td>灰色</td>\n      <td>鞋</td>\n      <td>WL574WNKB080</td>\n      <td>2850</td>\n      <td>30256.857143</td>\n      <td>3011.285714</td>\n      <td>5869.714286</td>\n      <td>60377.285714</td>\n      <td>15330.714286</td>\n    </tr>\n    <tr>\n      <th>2</th>\n      <td>Lifestyle574</td>\n      <td>B01125</td>\n      <td>1901083471</td>\n      <td>2020-02-21</td>\n      <td>女性</td>\n      <td>TIER 2 復古鞋</td>\n      <td>LF574</td>\n      <td>WL574WNO</td>\n      <td>WL574WNOB075</td>\n      <td>2</td>\n      <td>...</td>\n      <td>1809</td>\n      <td>淺灰</td>\n      <td>鞋</td>\n      <td>WL574WNOB075</td>\n      <td>2850</td>\n      <td>30256.857143</td>\n      <td>3011.285714</td>\n      <td>5869.714286</td>\n      <td>60377.285714</td>\n      <td>15330.714286</td>\n    </tr>\n    <tr>\n      <th>3</th>\n      <td>Lifestyle574</td>\n      <td>B01125</td>\n      <td>1901083463</td>\n      <td>2020-02-24</td>\n      <td>女性</td>\n      <td>TIER 2 復古鞋</td>\n      <td>LF574</td>\n      <td>WL574WNK</td>\n      <td>WL574WNKB080</td>\n      <td>2</td>\n      <td>...</td>\n      <td>1628</td>\n      <td>灰色</td>\n      <td>鞋</td>\n      <td>WL574WNKB080</td>\n      <td>2850</td>\n      <td>29053.571429</td>\n      <td>2733.714286</td>\n      <td>3372.000000</td>\n      <td>11014.285714</td>\n      <td>2451.857143</td>\n    </tr>\n    <tr>\n      <th>4</th>\n      <td>Lifestyle574</td>\n      <td>B01125</td>\n      <td>1901083471</td>\n      <td>2020-02-24</td>\n      <td>女性</td>\n      <td>TIER 2 復古鞋</td>\n      <td>LF574</td>\n      <td>WL574WNO</td>\n      <td>WL574WNOB075</td>\n      <td>2</td>\n      <td>...</td>\n      <td>3618</td>\n      <td>淺灰</td>\n      <td>鞋</td>\n      <td>WL574WNOB075</td>\n      <td>2850</td>\n      <td>29053.571429</td>\n      <td>2733.714286</td>\n      <td>3372.000000</td>\n      <td>11014.285714</td>\n      <td>2451.857143</td>\n    </tr>\n    <tr>\n      <th>...</th>\n      <td>...</td>\n      <td>...</td>\n      <td>...</td>\n      <td>...</td>\n      <td>...</td>\n      <td>...</td>\n      <td>...</td>\n      <td>...</td>\n      <td>...</td>\n      <td>...</td>\n      <td>...</td>\n      <td>...</td>\n      <td>...</td>\n      <td>...</td>\n      <td>...</td>\n      <td>...</td>\n      <td>...</td>\n      <td>...</td>\n      <td>...</td>\n      <td>...</td>\n      <td>...</td>\n    </tr>\n    <tr>\n      <th>2618</th>\n      <td>Lifestyle574</td>\n      <td>B02008-5</td>\n      <td>1901084295</td>\n      <td>2020-09-28</td>\n      <td>女性</td>\n      <td>TIER 3 復古鞋</td>\n      <td>LF574</td>\n      <td>WL574BCM</td>\n      <td>WL574BCMB080</td>\n      <td>9</td>\n      <td>...</td>\n      <td>2017</td>\n      <td>深藍</td>\n      <td>鞋</td>\n      <td>WL574BCMB080</td>\n      <td>2880</td>\n      <td>59880.666667</td>\n      <td>5798.666667</td>\n      <td>5861.333333</td>\n      <td>8383.333333</td>\n      <td>2009.333333</td>\n    </tr>\n    <tr>\n      <th>2619</th>\n      <td>Lifestyle574</td>\n      <td>B02008-5</td>\n      <td>1901086460</td>\n      <td>2020-07-10</td>\n      <td>女性</td>\n      <td>TIER 3 復古鞋</td>\n      <td>LF574</td>\n      <td>WL574SAX</td>\n      <td>WL574SAXB075</td>\n      <td>7</td>\n      <td>...</td>\n      <td>1761</td>\n      <td>粉紫</td>\n      <td>鞋</td>\n      <td>WL574SAXB075</td>\n      <td>2880</td>\n      <td>38974.142857</td>\n      <td>4255.285714</td>\n      <td>6117.571429</td>\n      <td>18757.571429</td>\n      <td>4199.857143</td>\n    </tr>\n    <tr>\n      <th>2620</th>\n      <td>Lifestyle574</td>\n      <td>B02008-5</td>\n      <td>1901086460</td>\n      <td>2020-08-12</td>\n      <td>女性</td>\n      <td>TIER 3 復古鞋</td>\n      <td>LF574</td>\n      <td>WL574SAX</td>\n      <td>WL574SAXB075</td>\n      <td>8</td>\n      <td>...</td>\n      <td>1889</td>\n      <td>粉紫</td>\n      <td>鞋</td>\n      <td>WL574SAXB075</td>\n      <td>2880</td>\n      <td>72475.714286</td>\n      <td>7058.428571</td>\n      <td>6774.571429</td>\n      <td>15803.285714</td>\n      <td>4646.714286</td>\n    </tr>\n    <tr>\n      <th>2621</th>\n      <td>Lifestyle574</td>\n      <td>B02008-5</td>\n      <td>1901086460</td>\n      <td>2020-08-27</td>\n      <td>女性</td>\n      <td>TIER 3 復古鞋</td>\n      <td>LF574</td>\n      <td>WL574SAX</td>\n      <td>WL574SAXB075</td>\n      <td>8</td>\n      <td>...</td>\n      <td>1894</td>\n      <td>粉紫</td>\n      <td>鞋</td>\n      <td>WL574SAXB075</td>\n      <td>2880</td>\n      <td>65749.857143</td>\n      <td>6570.428571</td>\n      <td>3960.142857</td>\n      <td>5646.857143</td>\n      <td>1606.285714</td>\n    </tr>\n    <tr>\n      <th>2622</th>\n      <td>Lifestyle574</td>\n      <td>B02008-5</td>\n      <td>1901086458</td>\n      <td>2020-09-18</td>\n      <td>女性</td>\n      <td>TIER 3 復古鞋</td>\n      <td>LF574</td>\n      <td>WL574SAX</td>\n      <td>WL574SAXB065</td>\n      <td>9</td>\n      <td>...</td>\n      <td>1766</td>\n      <td>粉紫</td>\n      <td>鞋</td>\n      <td>WL574SAXB065</td>\n      <td>2880</td>\n      <td>139629.428571</td>\n      <td>13142.571429</td>\n      <td>4525.714286</td>\n      <td>12058.285714</td>\n      <td>3056.857143</td>\n    </tr>\n  </tbody>\n</table>\n<p>2623 rows × 28 columns</p>\n</div>"
     },
     "metadata": {},
     "execution_count": 11
    }
   ],
   "source": [
    "LF574"
   ]
  },
  {
   "cell_type": "code",
   "execution_count": 12,
   "metadata": {},
   "outputs": [
    {
     "output_type": "execute_result",
     "data": {
      "text/plain": [
       "                                                       客戶名稱\n",
       "CustCode                                                   \n",
       "B01125    蝦皮蝦皮蝦皮蝦皮蝦皮蝦皮蝦皮蝦皮蝦皮蝦皮蝦皮蝦皮蝦皮蝦皮蝦皮蝦皮蝦皮蝦皮蝦皮蝦皮蝦皮蝦皮蝦皮...\n",
       "B02007-2  YAHOOYAHOOYAHOOYAHOOYAHOOYAHOOYAHOOYAHOOYAHOOY...\n",
       "B02008-5  MOMOMOMOMOMOMOMOMOMOMOMOMOMOMOMOMOMOMOMOMOMOMO..."
      ],
      "text/html": "<div>\n<style scoped>\n    .dataframe tbody tr th:only-of-type {\n        vertical-align: middle;\n    }\n\n    .dataframe tbody tr th {\n        vertical-align: top;\n    }\n\n    .dataframe thead th {\n        text-align: right;\n    }\n</style>\n<table border=\"1\" class=\"dataframe\">\n  <thead>\n    <tr style=\"text-align: right;\">\n      <th></th>\n      <th>客戶名稱</th>\n    </tr>\n    <tr>\n      <th>CustCode</th>\n      <th></th>\n    </tr>\n  </thead>\n  <tbody>\n    <tr>\n      <th>B01125</th>\n      <td>蝦皮蝦皮蝦皮蝦皮蝦皮蝦皮蝦皮蝦皮蝦皮蝦皮蝦皮蝦皮蝦皮蝦皮蝦皮蝦皮蝦皮蝦皮蝦皮蝦皮蝦皮蝦皮蝦皮...</td>\n    </tr>\n    <tr>\n      <th>B02007-2</th>\n      <td>YAHOOYAHOOYAHOOYAHOOYAHOOYAHOOYAHOOYAHOOYAHOOY...</td>\n    </tr>\n    <tr>\n      <th>B02008-5</th>\n      <td>MOMOMOMOMOMOMOMOMOMOMOMOMOMOMOMOMOMOMOMOMOMOMO...</td>\n    </tr>\n  </tbody>\n</table>\n</div>"
     },
     "metadata": {},
     "execution_count": 12
    }
   ],
   "source": [
    "LF574[['CustCode', '客戶名稱']].pivot_table(index=\"CustCode\", aggfunc=\"sum\")"
   ]
  },
  {
   "cell_type": "code",
   "execution_count": 13,
   "metadata": {},
   "outputs": [
    {
     "output_type": "execute_result",
     "data": {
      "text/plain": [
       "Index(['BrandName', 'CustCode', 'ProdtCode', 'SlipDate', 'TA性別', 'layer1',\n",
       "       'layer2', 'layer3', 'layer4', 'month', 'size_US', 'size_cm', 'week',\n",
       "       '單價', '型號', '客戶名稱', '尺寸', '數量', '金額', '顏色', '類型', '貨號', '建議售價',\n",
       "       'momo_瀏覽數', 'momo_造訪數', 'yahoo_瀏覽量', 'shopee_瀏覽數', 'shopee_造訪數'],\n",
       "      dtype='object')"
      ]
     },
     "metadata": {},
     "execution_count": 13
    }
   ],
   "source": [
    "LF574.columns"
   ]
  },
  {
   "cell_type": "code",
   "execution_count": 14,
   "metadata": {},
   "outputs": [],
   "source": [
    "LF574 = LF574.rename(columns={\"momo_瀏覽數\": \"A_瀏覽數_standard\", \"momo_造訪數\": \"A_造訪數_standard\", \"yahoo_瀏覽量\": \"B_瀏覽量_standard\", \"shopee_瀏覽數\": \"C_瀏覽數_standard\", \"shopee_造訪數\": \"C_造訪數_standard\"})"
   ]
  },
  {
   "cell_type": "code",
   "execution_count": 15,
   "metadata": {},
   "outputs": [],
   "source": [
    "LF574.replace({\"B02008-5\": \"A\", \"B02007-2\": \"B\", \"B01125\": \"C\"}, inplace=True)"
   ]
  },
  {
   "cell_type": "code",
   "execution_count": 16,
   "metadata": {},
   "outputs": [],
   "source": [
    "LF574 = LF574.drop(['BrandName', 'ProdtCode', 'TA性別', 'layer1', 'layer2', 'layer3', 'layer4', 'size_US', '型號', '客戶名稱', '尺寸', '顏色', '類型', '貨號'], axis=1)"
   ]
  },
  {
   "cell_type": "code",
   "execution_count": 17,
   "metadata": {},
   "outputs": [
    {
     "output_type": "execute_result",
     "data": {
      "text/plain": [
       "     CustCode   SlipDate  month  size_cm       week      單價  數量    金額  建議售價  \\\n",
       "0           C 2020-01-30      1     23.5 2020-01-27  1904.0   1  1904  2850   \n",
       "1           C 2020-02-21      2     25.0 2020-02-17  1809.0   1  1809  2850   \n",
       "2           C 2020-02-21      2     24.5 2020-02-17  1809.0   1  1809  2850   \n",
       "3           C 2020-02-24      2     25.0 2020-02-24  1628.0   1  1628  2850   \n",
       "4           C 2020-02-24      2     24.5 2020-02-24  1809.0   2  3618  2850   \n",
       "...       ...        ...    ...      ...        ...     ...  ..   ...   ...   \n",
       "2618        A 2020-09-28      9     25.0 2020-09-28  2017.0   1  2017  2880   \n",
       "2619        A 2020-07-10      7     24.5 2020-07-06  1761.0   1  1761  2880   \n",
       "2620        A 2020-08-12      8     24.5 2020-08-10  1889.0   1  1889  2880   \n",
       "2621        A 2020-08-27      8     24.5 2020-08-24  1894.0   1  1894  2880   \n",
       "2622        A 2020-09-18      9     23.5 2020-09-14  1766.0   1  1766  2880   \n",
       "\n",
       "      A_瀏覽數_standard  A_造訪數_standard  B_瀏覽量_standard  C_瀏覽數_standard  \\\n",
       "0       18496.571429     1627.428571     5725.142857     9867.142857   \n",
       "1       30256.857143     3011.285714     5869.714286    60377.285714   \n",
       "2       30256.857143     3011.285714     5869.714286    60377.285714   \n",
       "3       29053.571429     2733.714286     3372.000000    11014.285714   \n",
       "4       29053.571429     2733.714286     3372.000000    11014.285714   \n",
       "...              ...             ...             ...             ...   \n",
       "2618    59880.666667     5798.666667     5861.333333     8383.333333   \n",
       "2619    38974.142857     4255.285714     6117.571429    18757.571429   \n",
       "2620    72475.714286     7058.428571     6774.571429    15803.285714   \n",
       "2621    65749.857143     6570.428571     3960.142857     5646.857143   \n",
       "2622   139629.428571    13142.571429     4525.714286    12058.285714   \n",
       "\n",
       "      C_造訪數_standard  \n",
       "0        3910.285714  \n",
       "1       15330.714286  \n",
       "2       15330.714286  \n",
       "3        2451.857143  \n",
       "4        2451.857143  \n",
       "...              ...  \n",
       "2618     2009.333333  \n",
       "2619     4199.857143  \n",
       "2620     4646.714286  \n",
       "2621     1606.285714  \n",
       "2622     3056.857143  \n",
       "\n",
       "[2623 rows x 14 columns]"
      ],
      "text/html": "<div>\n<style scoped>\n    .dataframe tbody tr th:only-of-type {\n        vertical-align: middle;\n    }\n\n    .dataframe tbody tr th {\n        vertical-align: top;\n    }\n\n    .dataframe thead th {\n        text-align: right;\n    }\n</style>\n<table border=\"1\" class=\"dataframe\">\n  <thead>\n    <tr style=\"text-align: right;\">\n      <th></th>\n      <th>CustCode</th>\n      <th>SlipDate</th>\n      <th>month</th>\n      <th>size_cm</th>\n      <th>week</th>\n      <th>單價</th>\n      <th>數量</th>\n      <th>金額</th>\n      <th>建議售價</th>\n      <th>A_瀏覽數_standard</th>\n      <th>A_造訪數_standard</th>\n      <th>B_瀏覽量_standard</th>\n      <th>C_瀏覽數_standard</th>\n      <th>C_造訪數_standard</th>\n    </tr>\n  </thead>\n  <tbody>\n    <tr>\n      <th>0</th>\n      <td>C</td>\n      <td>2020-01-30</td>\n      <td>1</td>\n      <td>23.5</td>\n      <td>2020-01-27</td>\n      <td>1904.0</td>\n      <td>1</td>\n      <td>1904</td>\n      <td>2850</td>\n      <td>18496.571429</td>\n      <td>1627.428571</td>\n      <td>5725.142857</td>\n      <td>9867.142857</td>\n      <td>3910.285714</td>\n    </tr>\n    <tr>\n      <th>1</th>\n      <td>C</td>\n      <td>2020-02-21</td>\n      <td>2</td>\n      <td>25.0</td>\n      <td>2020-02-17</td>\n      <td>1809.0</td>\n      <td>1</td>\n      <td>1809</td>\n      <td>2850</td>\n      <td>30256.857143</td>\n      <td>3011.285714</td>\n      <td>5869.714286</td>\n      <td>60377.285714</td>\n      <td>15330.714286</td>\n    </tr>\n    <tr>\n      <th>2</th>\n      <td>C</td>\n      <td>2020-02-21</td>\n      <td>2</td>\n      <td>24.5</td>\n      <td>2020-02-17</td>\n      <td>1809.0</td>\n      <td>1</td>\n      <td>1809</td>\n      <td>2850</td>\n      <td>30256.857143</td>\n      <td>3011.285714</td>\n      <td>5869.714286</td>\n      <td>60377.285714</td>\n      <td>15330.714286</td>\n    </tr>\n    <tr>\n      <th>3</th>\n      <td>C</td>\n      <td>2020-02-24</td>\n      <td>2</td>\n      <td>25.0</td>\n      <td>2020-02-24</td>\n      <td>1628.0</td>\n      <td>1</td>\n      <td>1628</td>\n      <td>2850</td>\n      <td>29053.571429</td>\n      <td>2733.714286</td>\n      <td>3372.000000</td>\n      <td>11014.285714</td>\n      <td>2451.857143</td>\n    </tr>\n    <tr>\n      <th>4</th>\n      <td>C</td>\n      <td>2020-02-24</td>\n      <td>2</td>\n      <td>24.5</td>\n      <td>2020-02-24</td>\n      <td>1809.0</td>\n      <td>2</td>\n      <td>3618</td>\n      <td>2850</td>\n      <td>29053.571429</td>\n      <td>2733.714286</td>\n      <td>3372.000000</td>\n      <td>11014.285714</td>\n      <td>2451.857143</td>\n    </tr>\n    <tr>\n      <th>...</th>\n      <td>...</td>\n      <td>...</td>\n      <td>...</td>\n      <td>...</td>\n      <td>...</td>\n      <td>...</td>\n      <td>...</td>\n      <td>...</td>\n      <td>...</td>\n      <td>...</td>\n      <td>...</td>\n      <td>...</td>\n      <td>...</td>\n      <td>...</td>\n    </tr>\n    <tr>\n      <th>2618</th>\n      <td>A</td>\n      <td>2020-09-28</td>\n      <td>9</td>\n      <td>25.0</td>\n      <td>2020-09-28</td>\n      <td>2017.0</td>\n      <td>1</td>\n      <td>2017</td>\n      <td>2880</td>\n      <td>59880.666667</td>\n      <td>5798.666667</td>\n      <td>5861.333333</td>\n      <td>8383.333333</td>\n      <td>2009.333333</td>\n    </tr>\n    <tr>\n      <th>2619</th>\n      <td>A</td>\n      <td>2020-07-10</td>\n      <td>7</td>\n      <td>24.5</td>\n      <td>2020-07-06</td>\n      <td>1761.0</td>\n      <td>1</td>\n      <td>1761</td>\n      <td>2880</td>\n      <td>38974.142857</td>\n      <td>4255.285714</td>\n      <td>6117.571429</td>\n      <td>18757.571429</td>\n      <td>4199.857143</td>\n    </tr>\n    <tr>\n      <th>2620</th>\n      <td>A</td>\n      <td>2020-08-12</td>\n      <td>8</td>\n      <td>24.5</td>\n      <td>2020-08-10</td>\n      <td>1889.0</td>\n      <td>1</td>\n      <td>1889</td>\n      <td>2880</td>\n      <td>72475.714286</td>\n      <td>7058.428571</td>\n      <td>6774.571429</td>\n      <td>15803.285714</td>\n      <td>4646.714286</td>\n    </tr>\n    <tr>\n      <th>2621</th>\n      <td>A</td>\n      <td>2020-08-27</td>\n      <td>8</td>\n      <td>24.5</td>\n      <td>2020-08-24</td>\n      <td>1894.0</td>\n      <td>1</td>\n      <td>1894</td>\n      <td>2880</td>\n      <td>65749.857143</td>\n      <td>6570.428571</td>\n      <td>3960.142857</td>\n      <td>5646.857143</td>\n      <td>1606.285714</td>\n    </tr>\n    <tr>\n      <th>2622</th>\n      <td>A</td>\n      <td>2020-09-18</td>\n      <td>9</td>\n      <td>23.5</td>\n      <td>2020-09-14</td>\n      <td>1766.0</td>\n      <td>1</td>\n      <td>1766</td>\n      <td>2880</td>\n      <td>139629.428571</td>\n      <td>13142.571429</td>\n      <td>4525.714286</td>\n      <td>12058.285714</td>\n      <td>3056.857143</td>\n    </tr>\n  </tbody>\n</table>\n<p>2623 rows × 14 columns</p>\n</div>"
     },
     "metadata": {},
     "execution_count": 17
    }
   ],
   "source": [
    "LF574"
   ]
  },
  {
   "cell_type": "code",
   "execution_count": 18,
   "metadata": {},
   "outputs": [],
   "source": [
    "LF574 = LF574.drop(LF574.columns[-5:], axis=1)"
   ]
  },
  {
   "cell_type": "code",
   "execution_count": 19,
   "metadata": {},
   "outputs": [
    {
     "output_type": "execute_result",
     "data": {
      "text/plain": [
       "     CustCode   SlipDate  month  size_cm       week      單價  數量    金額  建議售價\n",
       "0           C 2020-01-30      1     23.5 2020-01-27  1904.0   1  1904  2850\n",
       "1           C 2020-02-21      2     25.0 2020-02-17  1809.0   1  1809  2850\n",
       "2           C 2020-02-21      2     24.5 2020-02-17  1809.0   1  1809  2850\n",
       "3           C 2020-02-24      2     25.0 2020-02-24  1628.0   1  1628  2850\n",
       "4           C 2020-02-24      2     24.5 2020-02-24  1809.0   2  3618  2850\n",
       "...       ...        ...    ...      ...        ...     ...  ..   ...   ...\n",
       "2618        A 2020-09-28      9     25.0 2020-09-28  2017.0   1  2017  2880\n",
       "2619        A 2020-07-10      7     24.5 2020-07-06  1761.0   1  1761  2880\n",
       "2620        A 2020-08-12      8     24.5 2020-08-10  1889.0   1  1889  2880\n",
       "2621        A 2020-08-27      8     24.5 2020-08-24  1894.0   1  1894  2880\n",
       "2622        A 2020-09-18      9     23.5 2020-09-14  1766.0   1  1766  2880\n",
       "\n",
       "[2623 rows x 9 columns]"
      ],
      "text/html": "<div>\n<style scoped>\n    .dataframe tbody tr th:only-of-type {\n        vertical-align: middle;\n    }\n\n    .dataframe tbody tr th {\n        vertical-align: top;\n    }\n\n    .dataframe thead th {\n        text-align: right;\n    }\n</style>\n<table border=\"1\" class=\"dataframe\">\n  <thead>\n    <tr style=\"text-align: right;\">\n      <th></th>\n      <th>CustCode</th>\n      <th>SlipDate</th>\n      <th>month</th>\n      <th>size_cm</th>\n      <th>week</th>\n      <th>單價</th>\n      <th>數量</th>\n      <th>金額</th>\n      <th>建議售價</th>\n    </tr>\n  </thead>\n  <tbody>\n    <tr>\n      <th>0</th>\n      <td>C</td>\n      <td>2020-01-30</td>\n      <td>1</td>\n      <td>23.5</td>\n      <td>2020-01-27</td>\n      <td>1904.0</td>\n      <td>1</td>\n      <td>1904</td>\n      <td>2850</td>\n    </tr>\n    <tr>\n      <th>1</th>\n      <td>C</td>\n      <td>2020-02-21</td>\n      <td>2</td>\n      <td>25.0</td>\n      <td>2020-02-17</td>\n      <td>1809.0</td>\n      <td>1</td>\n      <td>1809</td>\n      <td>2850</td>\n    </tr>\n    <tr>\n      <th>2</th>\n      <td>C</td>\n      <td>2020-02-21</td>\n      <td>2</td>\n      <td>24.5</td>\n      <td>2020-02-17</td>\n      <td>1809.0</td>\n      <td>1</td>\n      <td>1809</td>\n      <td>2850</td>\n    </tr>\n    <tr>\n      <th>3</th>\n      <td>C</td>\n      <td>2020-02-24</td>\n      <td>2</td>\n      <td>25.0</td>\n      <td>2020-02-24</td>\n      <td>1628.0</td>\n      <td>1</td>\n      <td>1628</td>\n      <td>2850</td>\n    </tr>\n    <tr>\n      <th>4</th>\n      <td>C</td>\n      <td>2020-02-24</td>\n      <td>2</td>\n      <td>24.5</td>\n      <td>2020-02-24</td>\n      <td>1809.0</td>\n      <td>2</td>\n      <td>3618</td>\n      <td>2850</td>\n    </tr>\n    <tr>\n      <th>...</th>\n      <td>...</td>\n      <td>...</td>\n      <td>...</td>\n      <td>...</td>\n      <td>...</td>\n      <td>...</td>\n      <td>...</td>\n      <td>...</td>\n      <td>...</td>\n    </tr>\n    <tr>\n      <th>2618</th>\n      <td>A</td>\n      <td>2020-09-28</td>\n      <td>9</td>\n      <td>25.0</td>\n      <td>2020-09-28</td>\n      <td>2017.0</td>\n      <td>1</td>\n      <td>2017</td>\n      <td>2880</td>\n    </tr>\n    <tr>\n      <th>2619</th>\n      <td>A</td>\n      <td>2020-07-10</td>\n      <td>7</td>\n      <td>24.5</td>\n      <td>2020-07-06</td>\n      <td>1761.0</td>\n      <td>1</td>\n      <td>1761</td>\n      <td>2880</td>\n    </tr>\n    <tr>\n      <th>2620</th>\n      <td>A</td>\n      <td>2020-08-12</td>\n      <td>8</td>\n      <td>24.5</td>\n      <td>2020-08-10</td>\n      <td>1889.0</td>\n      <td>1</td>\n      <td>1889</td>\n      <td>2880</td>\n    </tr>\n    <tr>\n      <th>2621</th>\n      <td>A</td>\n      <td>2020-08-27</td>\n      <td>8</td>\n      <td>24.5</td>\n      <td>2020-08-24</td>\n      <td>1894.0</td>\n      <td>1</td>\n      <td>1894</td>\n      <td>2880</td>\n    </tr>\n    <tr>\n      <th>2622</th>\n      <td>A</td>\n      <td>2020-09-18</td>\n      <td>9</td>\n      <td>23.5</td>\n      <td>2020-09-14</td>\n      <td>1766.0</td>\n      <td>1</td>\n      <td>1766</td>\n      <td>2880</td>\n    </tr>\n  </tbody>\n</table>\n<p>2623 rows × 9 columns</p>\n</div>"
     },
     "metadata": {},
     "execution_count": 19
    }
   ],
   "source": [
    "LF574"
   ]
  },
  {
   "cell_type": "code",
   "execution_count": 20,
   "metadata": {},
   "outputs": [],
   "source": [
    "for i in range(len(LF574)):\n",
    "    if LF574.loc[i, '建議售價'] == 2880:\n",
    "        LF574.at[i, '單價'] = LF574.at[i, '單價']*1.5-1320\n",
    "        LF574.at[i, '建議售價'] =  LF574.at[i, '建議售價']*1.5-1320\n",
    "    if LF574.at[i, '建議售價'] == 2850:\n",
    "        LF574.at[i, '單價'] = LF574.at[i, '單價']*1.5-1275\n",
    "        LF574.at[i, '建議售價'] = LF574.at[i, '建議售價']*1.5-1275"
   ]
  },
  {
   "cell_type": "code",
   "execution_count": 21,
   "metadata": {},
   "outputs": [],
   "source": [
    "LF574.drop(\"金額\", axis=1, inplace=True)"
   ]
  },
  {
   "cell_type": "code",
   "execution_count": 22,
   "metadata": {},
   "outputs": [],
   "source": [
    "LF574_pivot = LF574.pivot_table(index=\"week\", columns=\"CustCode\", aggfunc={\"單價\": np.mean, \"數量\": np.sum})"
   ]
  },
  {
   "cell_type": "code",
   "execution_count": 23,
   "metadata": {},
   "outputs": [],
   "source": [
    "LF574_pivot.columns = [' '.join(col).strip() for col in LF574_pivot.columns.values]\n",
    "LF574_pivot.reset_index(inplace=True)"
   ]
  },
  {
   "cell_type": "code",
   "execution_count": 24,
   "metadata": {},
   "outputs": [
    {
     "output_type": "execute_result",
     "data": {
      "text/plain": [
       "         week         單價 A         單價 B         單價 C  數量 A  數量 B   數量 C\n",
       "0  2019-12-30  2145.000000  1062.750000          NaN   4.0   5.0    NaN\n",
       "1  2020-01-06   997.676471  1336.500000          NaN  47.0   9.0    NaN\n",
       "2  2020-01-13  1055.357143   870.625000          NaN  30.0  21.0    NaN\n",
       "3  2020-01-20  1245.500000  1312.575000          NaN  17.0  12.0    NaN\n",
       "4  2020-01-27  1245.187500  1229.100000  1603.650000  17.0  10.0   19.0\n",
       "5  2020-02-03  1401.794118  1061.892857  1302.300000  18.0  19.0   15.0\n",
       "6  2020-02-10  1384.333333  1214.825000  1269.392857  28.0  53.0   28.0\n",
       "7  2020-02-17   966.785714  1176.807692  1254.886364  24.0  14.0   28.0\n",
       "8  2020-02-24   901.066667  1348.107143  1207.655405  71.0  24.0   53.0\n",
       "9  2020-03-02   995.653846  1497.681818  1249.762500  69.0  11.0   21.0\n",
       "10 2020-03-09   990.391304  1043.325000  1208.997685  35.0  13.0   76.0\n",
       "11 2020-03-16  1265.884615   900.180147  1441.404762  14.0  93.0   22.0\n",
       "12 2020-03-23  1198.000000  1039.977273  1176.088235  23.0  26.0   19.0\n",
       "13 2020-03-30  1302.818182  1104.410000  1104.796875  23.0  32.0   22.0\n",
       "14 2020-04-06   943.382075  1246.200000   995.137755  72.0   5.0   36.0\n",
       "15 2020-04-13  1258.950000  1455.916667   853.350000  21.0  18.0   31.0\n",
       "16 2020-04-20  1055.210526   898.271739   961.307692  23.0  26.0   17.0\n",
       "17 2020-04-27  1107.115385  1163.891892  1066.204686  14.0  42.0  317.0\n",
       "18 2020-05-04   980.456897  1421.086957  1250.527778  71.0  24.0   23.0\n",
       "19 2020-05-11  1150.750000  1495.135135  1287.115385  34.0  39.0   30.0\n",
       "20 2020-05-18  1151.685000  1057.333333  1191.150000  62.0  32.0   20.0\n",
       "21 2020-05-25  1087.669355  1397.192308  1516.500000  78.0  13.0    3.0\n",
       "22 2020-06-01  1180.557692  1516.670455  1539.437500  31.0  24.0   15.0\n",
       "23 2020-06-08  1061.390625  1448.400000   990.774000  35.0  10.0   38.0\n",
       "24 2020-06-15   982.460526  1402.655172  1107.395833  40.0  29.0   48.0\n",
       "25 2020-06-22   862.500000  1462.250000  1072.615385  24.0  12.0   13.0\n",
       "26 2020-06-29  1066.000000  1272.450000  1084.928571  23.0  20.0    7.0\n",
       "27 2020-07-06  1086.250000  1261.928571  1506.750000  18.0   7.0    7.0\n",
       "28 2020-07-13  1135.235294  1011.964286  1235.884615  41.0  23.0   16.0\n",
       "29 2020-07-20  1365.529412  1179.750000  1818.600000  19.0  27.0    5.0\n",
       "30 2020-07-27   991.153846  1250.678571  1270.633333  16.0  14.0   20.0\n",
       "31 2020-08-03  1074.517241  1346.125000  1470.000000  31.0  16.0    6.0\n",
       "32 2020-08-10   931.034483  1373.625000  1600.833333  30.0   8.0   10.0\n",
       "33 2020-08-17  1048.571429  1444.800000  1579.125000  23.0   5.0    4.0\n",
       "34 2020-08-24  1103.785714  1602.428571  1094.565577  22.0   7.0  123.0\n",
       "35 2020-08-31   813.075000  1060.687500  1145.625000  23.0  25.0    8.0\n",
       "36 2020-09-07  1005.195652   974.333333  1233.000000  32.0  10.0   28.0\n",
       "37 2020-09-14   974.261194  1236.500000  1129.000000  90.0  13.0   15.0\n",
       "38 2020-09-21   809.863636   868.791667  1022.165210  39.0  21.0  134.0\n",
       "39 2020-09-28  1058.035714  1010.833333   937.353580  15.0   9.0  242.0"
      ],
      "text/html": "<div>\n<style scoped>\n    .dataframe tbody tr th:only-of-type {\n        vertical-align: middle;\n    }\n\n    .dataframe tbody tr th {\n        vertical-align: top;\n    }\n\n    .dataframe thead th {\n        text-align: right;\n    }\n</style>\n<table border=\"1\" class=\"dataframe\">\n  <thead>\n    <tr style=\"text-align: right;\">\n      <th></th>\n      <th>week</th>\n      <th>單價 A</th>\n      <th>單價 B</th>\n      <th>單價 C</th>\n      <th>數量 A</th>\n      <th>數量 B</th>\n      <th>數量 C</th>\n    </tr>\n  </thead>\n  <tbody>\n    <tr>\n      <th>0</th>\n      <td>2019-12-30</td>\n      <td>2145.000000</td>\n      <td>1062.750000</td>\n      <td>NaN</td>\n      <td>4.0</td>\n      <td>5.0</td>\n      <td>NaN</td>\n    </tr>\n    <tr>\n      <th>1</th>\n      <td>2020-01-06</td>\n      <td>997.676471</td>\n      <td>1336.500000</td>\n      <td>NaN</td>\n      <td>47.0</td>\n      <td>9.0</td>\n      <td>NaN</td>\n    </tr>\n    <tr>\n      <th>2</th>\n      <td>2020-01-13</td>\n      <td>1055.357143</td>\n      <td>870.625000</td>\n      <td>NaN</td>\n      <td>30.0</td>\n      <td>21.0</td>\n      <td>NaN</td>\n    </tr>\n    <tr>\n      <th>3</th>\n      <td>2020-01-20</td>\n      <td>1245.500000</td>\n      <td>1312.575000</td>\n      <td>NaN</td>\n      <td>17.0</td>\n      <td>12.0</td>\n      <td>NaN</td>\n    </tr>\n    <tr>\n      <th>4</th>\n      <td>2020-01-27</td>\n      <td>1245.187500</td>\n      <td>1229.100000</td>\n      <td>1603.650000</td>\n      <td>17.0</td>\n      <td>10.0</td>\n      <td>19.0</td>\n    </tr>\n    <tr>\n      <th>5</th>\n      <td>2020-02-03</td>\n      <td>1401.794118</td>\n      <td>1061.892857</td>\n      <td>1302.300000</td>\n      <td>18.0</td>\n      <td>19.0</td>\n      <td>15.0</td>\n    </tr>\n    <tr>\n      <th>6</th>\n      <td>2020-02-10</td>\n      <td>1384.333333</td>\n      <td>1214.825000</td>\n      <td>1269.392857</td>\n      <td>28.0</td>\n      <td>53.0</td>\n      <td>28.0</td>\n    </tr>\n    <tr>\n      <th>7</th>\n      <td>2020-02-17</td>\n      <td>966.785714</td>\n      <td>1176.807692</td>\n      <td>1254.886364</td>\n      <td>24.0</td>\n      <td>14.0</td>\n      <td>28.0</td>\n    </tr>\n    <tr>\n      <th>8</th>\n      <td>2020-02-24</td>\n      <td>901.066667</td>\n      <td>1348.107143</td>\n      <td>1207.655405</td>\n      <td>71.0</td>\n      <td>24.0</td>\n      <td>53.0</td>\n    </tr>\n    <tr>\n      <th>9</th>\n      <td>2020-03-02</td>\n      <td>995.653846</td>\n      <td>1497.681818</td>\n      <td>1249.762500</td>\n      <td>69.0</td>\n      <td>11.0</td>\n      <td>21.0</td>\n    </tr>\n    <tr>\n      <th>10</th>\n      <td>2020-03-09</td>\n      <td>990.391304</td>\n      <td>1043.325000</td>\n      <td>1208.997685</td>\n      <td>35.0</td>\n      <td>13.0</td>\n      <td>76.0</td>\n    </tr>\n    <tr>\n      <th>11</th>\n      <td>2020-03-16</td>\n      <td>1265.884615</td>\n      <td>900.180147</td>\n      <td>1441.404762</td>\n      <td>14.0</td>\n      <td>93.0</td>\n      <td>22.0</td>\n    </tr>\n    <tr>\n      <th>12</th>\n      <td>2020-03-23</td>\n      <td>1198.000000</td>\n      <td>1039.977273</td>\n      <td>1176.088235</td>\n      <td>23.0</td>\n      <td>26.0</td>\n      <td>19.0</td>\n    </tr>\n    <tr>\n      <th>13</th>\n      <td>2020-03-30</td>\n      <td>1302.818182</td>\n      <td>1104.410000</td>\n      <td>1104.796875</td>\n      <td>23.0</td>\n      <td>32.0</td>\n      <td>22.0</td>\n    </tr>\n    <tr>\n      <th>14</th>\n      <td>2020-04-06</td>\n      <td>943.382075</td>\n      <td>1246.200000</td>\n      <td>995.137755</td>\n      <td>72.0</td>\n      <td>5.0</td>\n      <td>36.0</td>\n    </tr>\n    <tr>\n      <th>15</th>\n      <td>2020-04-13</td>\n      <td>1258.950000</td>\n      <td>1455.916667</td>\n      <td>853.350000</td>\n      <td>21.0</td>\n      <td>18.0</td>\n      <td>31.0</td>\n    </tr>\n    <tr>\n      <th>16</th>\n      <td>2020-04-20</td>\n      <td>1055.210526</td>\n      <td>898.271739</td>\n      <td>961.307692</td>\n      <td>23.0</td>\n      <td>26.0</td>\n      <td>17.0</td>\n    </tr>\n    <tr>\n      <th>17</th>\n      <td>2020-04-27</td>\n      <td>1107.115385</td>\n      <td>1163.891892</td>\n      <td>1066.204686</td>\n      <td>14.0</td>\n      <td>42.0</td>\n      <td>317.0</td>\n    </tr>\n    <tr>\n      <th>18</th>\n      <td>2020-05-04</td>\n      <td>980.456897</td>\n      <td>1421.086957</td>\n      <td>1250.527778</td>\n      <td>71.0</td>\n      <td>24.0</td>\n      <td>23.0</td>\n    </tr>\n    <tr>\n      <th>19</th>\n      <td>2020-05-11</td>\n      <td>1150.750000</td>\n      <td>1495.135135</td>\n      <td>1287.115385</td>\n      <td>34.0</td>\n      <td>39.0</td>\n      <td>30.0</td>\n    </tr>\n    <tr>\n      <th>20</th>\n      <td>2020-05-18</td>\n      <td>1151.685000</td>\n      <td>1057.333333</td>\n      <td>1191.150000</td>\n      <td>62.0</td>\n      <td>32.0</td>\n      <td>20.0</td>\n    </tr>\n    <tr>\n      <th>21</th>\n      <td>2020-05-25</td>\n      <td>1087.669355</td>\n      <td>1397.192308</td>\n      <td>1516.500000</td>\n      <td>78.0</td>\n      <td>13.0</td>\n      <td>3.0</td>\n    </tr>\n    <tr>\n      <th>22</th>\n      <td>2020-06-01</td>\n      <td>1180.557692</td>\n      <td>1516.670455</td>\n      <td>1539.437500</td>\n      <td>31.0</td>\n      <td>24.0</td>\n      <td>15.0</td>\n    </tr>\n    <tr>\n      <th>23</th>\n      <td>2020-06-08</td>\n      <td>1061.390625</td>\n      <td>1448.400000</td>\n      <td>990.774000</td>\n      <td>35.0</td>\n      <td>10.0</td>\n      <td>38.0</td>\n    </tr>\n    <tr>\n      <th>24</th>\n      <td>2020-06-15</td>\n      <td>982.460526</td>\n      <td>1402.655172</td>\n      <td>1107.395833</td>\n      <td>40.0</td>\n      <td>29.0</td>\n      <td>48.0</td>\n    </tr>\n    <tr>\n      <th>25</th>\n      <td>2020-06-22</td>\n      <td>862.500000</td>\n      <td>1462.250000</td>\n      <td>1072.615385</td>\n      <td>24.0</td>\n      <td>12.0</td>\n      <td>13.0</td>\n    </tr>\n    <tr>\n      <th>26</th>\n      <td>2020-06-29</td>\n      <td>1066.000000</td>\n      <td>1272.450000</td>\n      <td>1084.928571</td>\n      <td>23.0</td>\n      <td>20.0</td>\n      <td>7.0</td>\n    </tr>\n    <tr>\n      <th>27</th>\n      <td>2020-07-06</td>\n      <td>1086.250000</td>\n      <td>1261.928571</td>\n      <td>1506.750000</td>\n      <td>18.0</td>\n      <td>7.0</td>\n      <td>7.0</td>\n    </tr>\n    <tr>\n      <th>28</th>\n      <td>2020-07-13</td>\n      <td>1135.235294</td>\n      <td>1011.964286</td>\n      <td>1235.884615</td>\n      <td>41.0</td>\n      <td>23.0</td>\n      <td>16.0</td>\n    </tr>\n    <tr>\n      <th>29</th>\n      <td>2020-07-20</td>\n      <td>1365.529412</td>\n      <td>1179.750000</td>\n      <td>1818.600000</td>\n      <td>19.0</td>\n      <td>27.0</td>\n      <td>5.0</td>\n    </tr>\n    <tr>\n      <th>30</th>\n      <td>2020-07-27</td>\n      <td>991.153846</td>\n      <td>1250.678571</td>\n      <td>1270.633333</td>\n      <td>16.0</td>\n      <td>14.0</td>\n      <td>20.0</td>\n    </tr>\n    <tr>\n      <th>31</th>\n      <td>2020-08-03</td>\n      <td>1074.517241</td>\n      <td>1346.125000</td>\n      <td>1470.000000</td>\n      <td>31.0</td>\n      <td>16.0</td>\n      <td>6.0</td>\n    </tr>\n    <tr>\n      <th>32</th>\n      <td>2020-08-10</td>\n      <td>931.034483</td>\n      <td>1373.625000</td>\n      <td>1600.833333</td>\n      <td>30.0</td>\n      <td>8.0</td>\n      <td>10.0</td>\n    </tr>\n    <tr>\n      <th>33</th>\n      <td>2020-08-17</td>\n      <td>1048.571429</td>\n      <td>1444.800000</td>\n      <td>1579.125000</td>\n      <td>23.0</td>\n      <td>5.0</td>\n      <td>4.0</td>\n    </tr>\n    <tr>\n      <th>34</th>\n      <td>2020-08-24</td>\n      <td>1103.785714</td>\n      <td>1602.428571</td>\n      <td>1094.565577</td>\n      <td>22.0</td>\n      <td>7.0</td>\n      <td>123.0</td>\n    </tr>\n    <tr>\n      <th>35</th>\n      <td>2020-08-31</td>\n      <td>813.075000</td>\n      <td>1060.687500</td>\n      <td>1145.625000</td>\n      <td>23.0</td>\n      <td>25.0</td>\n      <td>8.0</td>\n    </tr>\n    <tr>\n      <th>36</th>\n      <td>2020-09-07</td>\n      <td>1005.195652</td>\n      <td>974.333333</td>\n      <td>1233.000000</td>\n      <td>32.0</td>\n      <td>10.0</td>\n      <td>28.0</td>\n    </tr>\n    <tr>\n      <th>37</th>\n      <td>2020-09-14</td>\n      <td>974.261194</td>\n      <td>1236.500000</td>\n      <td>1129.000000</td>\n      <td>90.0</td>\n      <td>13.0</td>\n      <td>15.0</td>\n    </tr>\n    <tr>\n      <th>38</th>\n      <td>2020-09-21</td>\n      <td>809.863636</td>\n      <td>868.791667</td>\n      <td>1022.165210</td>\n      <td>39.0</td>\n      <td>21.0</td>\n      <td>134.0</td>\n    </tr>\n    <tr>\n      <th>39</th>\n      <td>2020-09-28</td>\n      <td>1058.035714</td>\n      <td>1010.833333</td>\n      <td>937.353580</td>\n      <td>15.0</td>\n      <td>9.0</td>\n      <td>242.0</td>\n    </tr>\n  </tbody>\n</table>\n</div>"
     },
     "metadata": {},
     "execution_count": 24
    }
   ],
   "source": [
    "LF574_pivot"
   ]
  },
  {
   "cell_type": "code",
   "execution_count": 25,
   "metadata": {},
   "outputs": [],
   "source": [
    "imputer = KNNImputer(n_neighbors=2)\n",
    "LF574_pivot[LF574_pivot.columns[1:4]] = imputer.fit_transform(LF574_pivot[LF574_pivot.columns[1:4]])"
   ]
  },
  {
   "cell_type": "code",
   "execution_count": 26,
   "metadata": {},
   "outputs": [],
   "source": [
    "LF574_pivot = LF574_pivot.fillna(0)"
   ]
  },
  {
   "cell_type": "code",
   "execution_count": 27,
   "metadata": {},
   "outputs": [
    {
     "output_type": "execute_result",
     "data": {
      "text/plain": [
       "              單價     數量\n",
       "0    2145.000000    4.0\n",
       "1     997.676471   47.0\n",
       "2    1055.357143   30.0\n",
       "3    1245.500000   17.0\n",
       "4    1245.187500   17.0\n",
       "..           ...    ...\n",
       "115  1145.625000    8.0\n",
       "116  1233.000000   28.0\n",
       "117  1129.000000   15.0\n",
       "118  1022.165210  134.0\n",
       "119   937.353580  242.0\n",
       "\n",
       "[120 rows x 2 columns]"
      ],
      "text/html": "<div>\n<style scoped>\n    .dataframe tbody tr th:only-of-type {\n        vertical-align: middle;\n    }\n\n    .dataframe tbody tr th {\n        vertical-align: top;\n    }\n\n    .dataframe thead th {\n        text-align: right;\n    }\n</style>\n<table border=\"1\" class=\"dataframe\">\n  <thead>\n    <tr style=\"text-align: right;\">\n      <th></th>\n      <th>單價</th>\n      <th>數量</th>\n    </tr>\n  </thead>\n  <tbody>\n    <tr>\n      <th>0</th>\n      <td>2145.000000</td>\n      <td>4.0</td>\n    </tr>\n    <tr>\n      <th>1</th>\n      <td>997.676471</td>\n      <td>47.0</td>\n    </tr>\n    <tr>\n      <th>2</th>\n      <td>1055.357143</td>\n      <td>30.0</td>\n    </tr>\n    <tr>\n      <th>3</th>\n      <td>1245.500000</td>\n      <td>17.0</td>\n    </tr>\n    <tr>\n      <th>4</th>\n      <td>1245.187500</td>\n      <td>17.0</td>\n    </tr>\n    <tr>\n      <th>...</th>\n      <td>...</td>\n      <td>...</td>\n    </tr>\n    <tr>\n      <th>115</th>\n      <td>1145.625000</td>\n      <td>8.0</td>\n    </tr>\n    <tr>\n      <th>116</th>\n      <td>1233.000000</td>\n      <td>28.0</td>\n    </tr>\n    <tr>\n      <th>117</th>\n      <td>1129.000000</td>\n      <td>15.0</td>\n    </tr>\n    <tr>\n      <th>118</th>\n      <td>1022.165210</td>\n      <td>134.0</td>\n    </tr>\n    <tr>\n      <th>119</th>\n      <td>937.353580</td>\n      <td>242.0</td>\n    </tr>\n  </tbody>\n</table>\n<p>120 rows × 2 columns</p>\n</div>"
     },
     "metadata": {},
     "execution_count": 27
    }
   ],
   "source": [
    "LF574_agg = pd.DataFrame()\n",
    "LF574_agg['單價'] = list(LF574_pivot['單價 A']) + list(LF574_pivot['單價 B']) + list(LF574_pivot['單價 C'])\n",
    "LF574_agg['數量'] = list(LF574_pivot['數量 A']) + list(LF574_pivot['數量 B']) + list(LF574_pivot['數量 C'])\n",
    "LF574_agg"
   ]
  },
  {
   "cell_type": "code",
   "execution_count": 28,
   "metadata": {},
   "outputs": [],
   "source": [
    "range_1 = LF574_agg[(800<=LF574_agg['單價']) & (LF574_agg['單價']<1000)]"
   ]
  },
  {
   "cell_type": "code",
   "execution_count": 29,
   "metadata": {},
   "outputs": [
    {
     "output_type": "execute_result",
     "data": {
      "text/plain": [
       "(array([8., 8., 1., 3., 1., 2., 0., 0., 0., 0., 0., 0., 0., 0., 1.]),\n",
       " array([ 10.        ,  25.46666667,  40.93333333,  56.4       ,\n",
       "         71.86666667,  87.33333333, 102.8       , 118.26666667,\n",
       "        133.73333333, 149.2       , 164.66666667, 180.13333333,\n",
       "        195.6       , 211.06666667, 226.53333333, 242.        ]),\n",
       " <a list of 15 Patch objects>)"
      ]
     },
     "metadata": {},
     "execution_count": 29
    },
    {
     "output_type": "display_data",
     "data": {
      "text/plain": "<Figure size 432x288 with 1 Axes>",
      "image/svg+xml": "<?xml version=\"1.0\" encoding=\"utf-8\" standalone=\"no\"?>\r\n<!DOCTYPE svg PUBLIC \"-//W3C//DTD SVG 1.1//EN\"\r\n  \"http://www.w3.org/Graphics/SVG/1.1/DTD/svg11.dtd\">\r\n<!-- Created with matplotlib (https://matplotlib.org/) -->\r\n<svg height=\"248.518125pt\" version=\"1.1\" viewBox=\"0 0 367.383366 248.518125\" width=\"367.383366pt\" xmlns=\"http://www.w3.org/2000/svg\" xmlns:xlink=\"http://www.w3.org/1999/xlink\">\r\n <defs>\r\n  <style type=\"text/css\">\r\n*{stroke-linecap:butt;stroke-linejoin:round;}\r\n  </style>\r\n </defs>\r\n <g id=\"figure_1\">\r\n  <g id=\"patch_1\">\r\n   <path d=\"M 0 248.518125 \r\nL 367.383366 248.518125 \r\nL 367.383366 0 \r\nL 0 0 \r\nz\r\n\" style=\"fill:none;\"/>\r\n  </g>\r\n  <g id=\"axes_1\">\r\n   <g id=\"patch_2\">\r\n    <path d=\"M 20.5625 224.64 \r\nL 355.3625 224.64 \r\nL 355.3625 7.2 \r\nL 20.5625 7.2 \r\nz\r\n\" style=\"fill:#ffffff;\"/>\r\n   </g>\r\n   <g id=\"patch_3\">\r\n    <path clip-path=\"url(#pc6c9ae631b)\" d=\"M 35.780682 224.64 \r\nL 56.071591 224.64 \r\nL 56.071591 17.554286 \r\nL 35.780682 17.554286 \r\nz\r\n\" style=\"fill:#1f77b4;\"/>\r\n   </g>\r\n   <g id=\"patch_4\">\r\n    <path clip-path=\"url(#pc6c9ae631b)\" d=\"M 56.071591 224.64 \r\nL 76.3625 224.64 \r\nL 76.3625 17.554286 \r\nL 56.071591 17.554286 \r\nz\r\n\" style=\"fill:#1f77b4;\"/>\r\n   </g>\r\n   <g id=\"patch_5\">\r\n    <path clip-path=\"url(#pc6c9ae631b)\" d=\"M 76.3625 224.64 \r\nL 96.653409 224.64 \r\nL 96.653409 198.754286 \r\nL 76.3625 198.754286 \r\nz\r\n\" style=\"fill:#1f77b4;\"/>\r\n   </g>\r\n   <g id=\"patch_6\">\r\n    <path clip-path=\"url(#pc6c9ae631b)\" d=\"M 96.653409 224.64 \r\nL 116.944318 224.64 \r\nL 116.944318 146.982857 \r\nL 96.653409 146.982857 \r\nz\r\n\" style=\"fill:#1f77b4;\"/>\r\n   </g>\r\n   <g id=\"patch_7\">\r\n    <path clip-path=\"url(#pc6c9ae631b)\" d=\"M 116.944318 224.64 \r\nL 137.235227 224.64 \r\nL 137.235227 198.754286 \r\nL 116.944318 198.754286 \r\nz\r\n\" style=\"fill:#1f77b4;\"/>\r\n   </g>\r\n   <g id=\"patch_8\">\r\n    <path clip-path=\"url(#pc6c9ae631b)\" d=\"M 137.235227 224.64 \r\nL 157.526136 224.64 \r\nL 157.526136 172.868571 \r\nL 137.235227 172.868571 \r\nz\r\n\" style=\"fill:#1f77b4;\"/>\r\n   </g>\r\n   <g id=\"patch_9\">\r\n    <path clip-path=\"url(#pc6c9ae631b)\" d=\"M 157.526136 224.64 \r\nL 177.817045 224.64 \r\nL 177.817045 224.64 \r\nL 157.526136 224.64 \r\nz\r\n\" style=\"fill:#1f77b4;\"/>\r\n   </g>\r\n   <g id=\"patch_10\">\r\n    <path clip-path=\"url(#pc6c9ae631b)\" d=\"M 177.817045 224.64 \r\nL 198.107955 224.64 \r\nL 198.107955 224.64 \r\nL 177.817045 224.64 \r\nz\r\n\" style=\"fill:#1f77b4;\"/>\r\n   </g>\r\n   <g id=\"patch_11\">\r\n    <path clip-path=\"url(#pc6c9ae631b)\" d=\"M 198.107955 224.64 \r\nL 218.398864 224.64 \r\nL 218.398864 224.64 \r\nL 198.107955 224.64 \r\nz\r\n\" style=\"fill:#1f77b4;\"/>\r\n   </g>\r\n   <g id=\"patch_12\">\r\n    <path clip-path=\"url(#pc6c9ae631b)\" d=\"M 218.398864 224.64 \r\nL 238.689773 224.64 \r\nL 238.689773 224.64 \r\nL 218.398864 224.64 \r\nz\r\n\" style=\"fill:#1f77b4;\"/>\r\n   </g>\r\n   <g id=\"patch_13\">\r\n    <path clip-path=\"url(#pc6c9ae631b)\" d=\"M 238.689773 224.64 \r\nL 258.980682 224.64 \r\nL 258.980682 224.64 \r\nL 238.689773 224.64 \r\nz\r\n\" style=\"fill:#1f77b4;\"/>\r\n   </g>\r\n   <g id=\"patch_14\">\r\n    <path clip-path=\"url(#pc6c9ae631b)\" d=\"M 258.980682 224.64 \r\nL 279.271591 224.64 \r\nL 279.271591 224.64 \r\nL 258.980682 224.64 \r\nz\r\n\" style=\"fill:#1f77b4;\"/>\r\n   </g>\r\n   <g id=\"patch_15\">\r\n    <path clip-path=\"url(#pc6c9ae631b)\" d=\"M 279.271591 224.64 \r\nL 299.5625 224.64 \r\nL 299.5625 224.64 \r\nL 279.271591 224.64 \r\nz\r\n\" style=\"fill:#1f77b4;\"/>\r\n   </g>\r\n   <g id=\"patch_16\">\r\n    <path clip-path=\"url(#pc6c9ae631b)\" d=\"M 299.5625 224.64 \r\nL 319.853409 224.64 \r\nL 319.853409 224.64 \r\nL 299.5625 224.64 \r\nz\r\n\" style=\"fill:#1f77b4;\"/>\r\n   </g>\r\n   <g id=\"patch_17\">\r\n    <path clip-path=\"url(#pc6c9ae631b)\" d=\"M 319.853409 224.64 \r\nL 340.144318 224.64 \r\nL 340.144318 198.754286 \r\nL 319.853409 198.754286 \r\nz\r\n\" style=\"fill:#1f77b4;\"/>\r\n   </g>\r\n   <g id=\"matplotlib.axis_1\">\r\n    <g id=\"xtick_1\">\r\n     <g id=\"line2d_1\">\r\n      <defs>\r\n       <path d=\"M 0 0 \r\nL 0 3.5 \r\n\" id=\"mb518743d57\" style=\"stroke:#000000;stroke-width:0.8;\"/>\r\n      </defs>\r\n      <g>\r\n       <use style=\"stroke:#000000;stroke-width:0.8;\" x=\"22.66156\" xlink:href=\"#mb518743d57\" y=\"224.64\"/>\r\n      </g>\r\n     </g>\r\n     <g id=\"text_1\">\r\n      <!-- 0 -->\r\n      <defs>\r\n       <path d=\"M 31.78125 66.40625 \r\nQ 24.171875 66.40625 20.328125 58.90625 \r\nQ 16.5 51.421875 16.5 36.375 \r\nQ 16.5 21.390625 20.328125 13.890625 \r\nQ 24.171875 6.390625 31.78125 6.390625 \r\nQ 39.453125 6.390625 43.28125 13.890625 \r\nQ 47.125 21.390625 47.125 36.375 \r\nQ 47.125 51.421875 43.28125 58.90625 \r\nQ 39.453125 66.40625 31.78125 66.40625 \r\nz\r\nM 31.78125 74.21875 \r\nQ 44.046875 74.21875 50.515625 64.515625 \r\nQ 56.984375 54.828125 56.984375 36.375 \r\nQ 56.984375 17.96875 50.515625 8.265625 \r\nQ 44.046875 -1.421875 31.78125 -1.421875 \r\nQ 19.53125 -1.421875 13.0625 8.265625 \r\nQ 6.59375 17.96875 6.59375 36.375 \r\nQ 6.59375 54.828125 13.0625 64.515625 \r\nQ 19.53125 74.21875 31.78125 74.21875 \r\nz\r\n\" id=\"DejaVuSans-48\"/>\r\n      </defs>\r\n      <g transform=\"translate(19.48031 239.238437)scale(0.1 -0.1)\">\r\n       <use xlink:href=\"#DejaVuSans-48\"/>\r\n      </g>\r\n     </g>\r\n    </g>\r\n    <g id=\"xtick_2\">\r\n     <g id=\"line2d_2\">\r\n      <g>\r\n       <use style=\"stroke:#000000;stroke-width:0.8;\" x=\"88.257171\" xlink:href=\"#mb518743d57\" y=\"224.64\"/>\r\n      </g>\r\n     </g>\r\n     <g id=\"text_2\">\r\n      <!-- 50 -->\r\n      <defs>\r\n       <path d=\"M 10.796875 72.90625 \r\nL 49.515625 72.90625 \r\nL 49.515625 64.59375 \r\nL 19.828125 64.59375 \r\nL 19.828125 46.734375 \r\nQ 21.96875 47.46875 24.109375 47.828125 \r\nQ 26.265625 48.1875 28.421875 48.1875 \r\nQ 40.625 48.1875 47.75 41.5 \r\nQ 54.890625 34.8125 54.890625 23.390625 \r\nQ 54.890625 11.625 47.5625 5.09375 \r\nQ 40.234375 -1.421875 26.90625 -1.421875 \r\nQ 22.3125 -1.421875 17.546875 -0.640625 \r\nQ 12.796875 0.140625 7.71875 1.703125 \r\nL 7.71875 11.625 \r\nQ 12.109375 9.234375 16.796875 8.0625 \r\nQ 21.484375 6.890625 26.703125 6.890625 \r\nQ 35.15625 6.890625 40.078125 11.328125 \r\nQ 45.015625 15.765625 45.015625 23.390625 \r\nQ 45.015625 31 40.078125 35.4375 \r\nQ 35.15625 39.890625 26.703125 39.890625 \r\nQ 22.75 39.890625 18.8125 39.015625 \r\nQ 14.890625 38.140625 10.796875 36.28125 \r\nz\r\n\" id=\"DejaVuSans-53\"/>\r\n      </defs>\r\n      <g transform=\"translate(81.894671 239.238437)scale(0.1 -0.1)\">\r\n       <use xlink:href=\"#DejaVuSans-53\"/>\r\n       <use x=\"63.623047\" xlink:href=\"#DejaVuSans-48\"/>\r\n      </g>\r\n     </g>\r\n    </g>\r\n    <g id=\"xtick_3\">\r\n     <g id=\"line2d_3\">\r\n      <g>\r\n       <use style=\"stroke:#000000;stroke-width:0.8;\" x=\"153.852782\" xlink:href=\"#mb518743d57\" y=\"224.64\"/>\r\n      </g>\r\n     </g>\r\n     <g id=\"text_3\">\r\n      <!-- 100 -->\r\n      <defs>\r\n       <path d=\"M 12.40625 8.296875 \r\nL 28.515625 8.296875 \r\nL 28.515625 63.921875 \r\nL 10.984375 60.40625 \r\nL 10.984375 69.390625 \r\nL 28.421875 72.90625 \r\nL 38.28125 72.90625 \r\nL 38.28125 8.296875 \r\nL 54.390625 8.296875 \r\nL 54.390625 0 \r\nL 12.40625 0 \r\nz\r\n\" id=\"DejaVuSans-49\"/>\r\n      </defs>\r\n      <g transform=\"translate(144.309032 239.238437)scale(0.1 -0.1)\">\r\n       <use xlink:href=\"#DejaVuSans-49\"/>\r\n       <use x=\"63.623047\" xlink:href=\"#DejaVuSans-48\"/>\r\n       <use x=\"127.246094\" xlink:href=\"#DejaVuSans-48\"/>\r\n      </g>\r\n     </g>\r\n    </g>\r\n    <g id=\"xtick_4\">\r\n     <g id=\"line2d_4\">\r\n      <g>\r\n       <use style=\"stroke:#000000;stroke-width:0.8;\" x=\"219.448393\" xlink:href=\"#mb518743d57\" y=\"224.64\"/>\r\n      </g>\r\n     </g>\r\n     <g id=\"text_4\">\r\n      <!-- 150 -->\r\n      <g transform=\"translate(209.904643 239.238437)scale(0.1 -0.1)\">\r\n       <use xlink:href=\"#DejaVuSans-49\"/>\r\n       <use x=\"63.623047\" xlink:href=\"#DejaVuSans-53\"/>\r\n       <use x=\"127.246094\" xlink:href=\"#DejaVuSans-48\"/>\r\n      </g>\r\n     </g>\r\n    </g>\r\n    <g id=\"xtick_5\">\r\n     <g id=\"line2d_5\">\r\n      <g>\r\n       <use style=\"stroke:#000000;stroke-width:0.8;\" x=\"285.044005\" xlink:href=\"#mb518743d57\" y=\"224.64\"/>\r\n      </g>\r\n     </g>\r\n     <g id=\"text_5\">\r\n      <!-- 200 -->\r\n      <defs>\r\n       <path d=\"M 19.1875 8.296875 \r\nL 53.609375 8.296875 \r\nL 53.609375 0 \r\nL 7.328125 0 \r\nL 7.328125 8.296875 \r\nQ 12.9375 14.109375 22.625 23.890625 \r\nQ 32.328125 33.6875 34.8125 36.53125 \r\nQ 39.546875 41.84375 41.421875 45.53125 \r\nQ 43.3125 49.21875 43.3125 52.78125 \r\nQ 43.3125 58.59375 39.234375 62.25 \r\nQ 35.15625 65.921875 28.609375 65.921875 \r\nQ 23.96875 65.921875 18.8125 64.3125 \r\nQ 13.671875 62.703125 7.8125 59.421875 \r\nL 7.8125 69.390625 \r\nQ 13.765625 71.78125 18.9375 73 \r\nQ 24.125 74.21875 28.421875 74.21875 \r\nQ 39.75 74.21875 46.484375 68.546875 \r\nQ 53.21875 62.890625 53.21875 53.421875 \r\nQ 53.21875 48.921875 51.53125 44.890625 \r\nQ 49.859375 40.875 45.40625 35.40625 \r\nQ 44.1875 33.984375 37.640625 27.21875 \r\nQ 31.109375 20.453125 19.1875 8.296875 \r\nz\r\n\" id=\"DejaVuSans-50\"/>\r\n      </defs>\r\n      <g transform=\"translate(275.500255 239.238437)scale(0.1 -0.1)\">\r\n       <use xlink:href=\"#DejaVuSans-50\"/>\r\n       <use x=\"63.623047\" xlink:href=\"#DejaVuSans-48\"/>\r\n       <use x=\"127.246094\" xlink:href=\"#DejaVuSans-48\"/>\r\n      </g>\r\n     </g>\r\n    </g>\r\n    <g id=\"xtick_6\">\r\n     <g id=\"line2d_6\">\r\n      <g>\r\n       <use style=\"stroke:#000000;stroke-width:0.8;\" x=\"350.639616\" xlink:href=\"#mb518743d57\" y=\"224.64\"/>\r\n      </g>\r\n     </g>\r\n     <g id=\"text_6\">\r\n      <!-- 250 -->\r\n      <g transform=\"translate(341.095866 239.238437)scale(0.1 -0.1)\">\r\n       <use xlink:href=\"#DejaVuSans-50\"/>\r\n       <use x=\"63.623047\" xlink:href=\"#DejaVuSans-53\"/>\r\n       <use x=\"127.246094\" xlink:href=\"#DejaVuSans-48\"/>\r\n      </g>\r\n     </g>\r\n    </g>\r\n   </g>\r\n   <g id=\"matplotlib.axis_2\">\r\n    <g id=\"ytick_1\">\r\n     <g id=\"line2d_7\">\r\n      <defs>\r\n       <path d=\"M 0 0 \r\nL -3.5 0 \r\n\" id=\"m5f5bcd102c\" style=\"stroke:#000000;stroke-width:0.8;\"/>\r\n      </defs>\r\n      <g>\r\n       <use style=\"stroke:#000000;stroke-width:0.8;\" x=\"20.5625\" xlink:href=\"#m5f5bcd102c\" y=\"224.64\"/>\r\n      </g>\r\n     </g>\r\n     <g id=\"text_7\">\r\n      <!-- 0 -->\r\n      <g transform=\"translate(7.2 228.439219)scale(0.1 -0.1)\">\r\n       <use xlink:href=\"#DejaVuSans-48\"/>\r\n      </g>\r\n     </g>\r\n    </g>\r\n    <g id=\"ytick_2\">\r\n     <g id=\"line2d_8\">\r\n      <g>\r\n       <use style=\"stroke:#000000;stroke-width:0.8;\" x=\"20.5625\" xlink:href=\"#m5f5bcd102c\" y=\"198.754286\"/>\r\n      </g>\r\n     </g>\r\n     <g id=\"text_8\">\r\n      <!-- 1 -->\r\n      <g transform=\"translate(7.2 202.553504)scale(0.1 -0.1)\">\r\n       <use xlink:href=\"#DejaVuSans-49\"/>\r\n      </g>\r\n     </g>\r\n    </g>\r\n    <g id=\"ytick_3\">\r\n     <g id=\"line2d_9\">\r\n      <g>\r\n       <use style=\"stroke:#000000;stroke-width:0.8;\" x=\"20.5625\" xlink:href=\"#m5f5bcd102c\" y=\"172.868571\"/>\r\n      </g>\r\n     </g>\r\n     <g id=\"text_9\">\r\n      <!-- 2 -->\r\n      <g transform=\"translate(7.2 176.66779)scale(0.1 -0.1)\">\r\n       <use xlink:href=\"#DejaVuSans-50\"/>\r\n      </g>\r\n     </g>\r\n    </g>\r\n    <g id=\"ytick_4\">\r\n     <g id=\"line2d_10\">\r\n      <g>\r\n       <use style=\"stroke:#000000;stroke-width:0.8;\" x=\"20.5625\" xlink:href=\"#m5f5bcd102c\" y=\"146.982857\"/>\r\n      </g>\r\n     </g>\r\n     <g id=\"text_10\">\r\n      <!-- 3 -->\r\n      <defs>\r\n       <path d=\"M 40.578125 39.3125 \r\nQ 47.65625 37.796875 51.625 33 \r\nQ 55.609375 28.21875 55.609375 21.1875 \r\nQ 55.609375 10.40625 48.1875 4.484375 \r\nQ 40.765625 -1.421875 27.09375 -1.421875 \r\nQ 22.515625 -1.421875 17.65625 -0.515625 \r\nQ 12.796875 0.390625 7.625 2.203125 \r\nL 7.625 11.71875 \r\nQ 11.71875 9.328125 16.59375 8.109375 \r\nQ 21.484375 6.890625 26.8125 6.890625 \r\nQ 36.078125 6.890625 40.9375 10.546875 \r\nQ 45.796875 14.203125 45.796875 21.1875 \r\nQ 45.796875 27.640625 41.28125 31.265625 \r\nQ 36.765625 34.90625 28.71875 34.90625 \r\nL 20.21875 34.90625 \r\nL 20.21875 43.015625 \r\nL 29.109375 43.015625 \r\nQ 36.375 43.015625 40.234375 45.921875 \r\nQ 44.09375 48.828125 44.09375 54.296875 \r\nQ 44.09375 59.90625 40.109375 62.90625 \r\nQ 36.140625 65.921875 28.71875 65.921875 \r\nQ 24.65625 65.921875 20.015625 65.03125 \r\nQ 15.375 64.15625 9.8125 62.3125 \r\nL 9.8125 71.09375 \r\nQ 15.4375 72.65625 20.34375 73.4375 \r\nQ 25.25 74.21875 29.59375 74.21875 \r\nQ 40.828125 74.21875 47.359375 69.109375 \r\nQ 53.90625 64.015625 53.90625 55.328125 \r\nQ 53.90625 49.265625 50.4375 45.09375 \r\nQ 46.96875 40.921875 40.578125 39.3125 \r\nz\r\n\" id=\"DejaVuSans-51\"/>\r\n      </defs>\r\n      <g transform=\"translate(7.2 150.782076)scale(0.1 -0.1)\">\r\n       <use xlink:href=\"#DejaVuSans-51\"/>\r\n      </g>\r\n     </g>\r\n    </g>\r\n    <g id=\"ytick_5\">\r\n     <g id=\"line2d_11\">\r\n      <g>\r\n       <use style=\"stroke:#000000;stroke-width:0.8;\" x=\"20.5625\" xlink:href=\"#m5f5bcd102c\" y=\"121.097143\"/>\r\n      </g>\r\n     </g>\r\n     <g id=\"text_11\">\r\n      <!-- 4 -->\r\n      <defs>\r\n       <path d=\"M 37.796875 64.3125 \r\nL 12.890625 25.390625 \r\nL 37.796875 25.390625 \r\nz\r\nM 35.203125 72.90625 \r\nL 47.609375 72.90625 \r\nL 47.609375 25.390625 \r\nL 58.015625 25.390625 \r\nL 58.015625 17.1875 \r\nL 47.609375 17.1875 \r\nL 47.609375 0 \r\nL 37.796875 0 \r\nL 37.796875 17.1875 \r\nL 4.890625 17.1875 \r\nL 4.890625 26.703125 \r\nz\r\n\" id=\"DejaVuSans-52\"/>\r\n      </defs>\r\n      <g transform=\"translate(7.2 124.896362)scale(0.1 -0.1)\">\r\n       <use xlink:href=\"#DejaVuSans-52\"/>\r\n      </g>\r\n     </g>\r\n    </g>\r\n    <g id=\"ytick_6\">\r\n     <g id=\"line2d_12\">\r\n      <g>\r\n       <use style=\"stroke:#000000;stroke-width:0.8;\" x=\"20.5625\" xlink:href=\"#m5f5bcd102c\" y=\"95.211429\"/>\r\n      </g>\r\n     </g>\r\n     <g id=\"text_12\">\r\n      <!-- 5 -->\r\n      <g transform=\"translate(7.2 99.010647)scale(0.1 -0.1)\">\r\n       <use xlink:href=\"#DejaVuSans-53\"/>\r\n      </g>\r\n     </g>\r\n    </g>\r\n    <g id=\"ytick_7\">\r\n     <g id=\"line2d_13\">\r\n      <g>\r\n       <use style=\"stroke:#000000;stroke-width:0.8;\" x=\"20.5625\" xlink:href=\"#m5f5bcd102c\" y=\"69.325714\"/>\r\n      </g>\r\n     </g>\r\n     <g id=\"text_13\">\r\n      <!-- 6 -->\r\n      <defs>\r\n       <path d=\"M 33.015625 40.375 \r\nQ 26.375 40.375 22.484375 35.828125 \r\nQ 18.609375 31.296875 18.609375 23.390625 \r\nQ 18.609375 15.53125 22.484375 10.953125 \r\nQ 26.375 6.390625 33.015625 6.390625 \r\nQ 39.65625 6.390625 43.53125 10.953125 \r\nQ 47.40625 15.53125 47.40625 23.390625 \r\nQ 47.40625 31.296875 43.53125 35.828125 \r\nQ 39.65625 40.375 33.015625 40.375 \r\nz\r\nM 52.59375 71.296875 \r\nL 52.59375 62.3125 \r\nQ 48.875 64.0625 45.09375 64.984375 \r\nQ 41.3125 65.921875 37.59375 65.921875 \r\nQ 27.828125 65.921875 22.671875 59.328125 \r\nQ 17.53125 52.734375 16.796875 39.40625 \r\nQ 19.671875 43.65625 24.015625 45.921875 \r\nQ 28.375 48.1875 33.59375 48.1875 \r\nQ 44.578125 48.1875 50.953125 41.515625 \r\nQ 57.328125 34.859375 57.328125 23.390625 \r\nQ 57.328125 12.15625 50.6875 5.359375 \r\nQ 44.046875 -1.421875 33.015625 -1.421875 \r\nQ 20.359375 -1.421875 13.671875 8.265625 \r\nQ 6.984375 17.96875 6.984375 36.375 \r\nQ 6.984375 53.65625 15.1875 63.9375 \r\nQ 23.390625 74.21875 37.203125 74.21875 \r\nQ 40.921875 74.21875 44.703125 73.484375 \r\nQ 48.484375 72.75 52.59375 71.296875 \r\nz\r\n\" id=\"DejaVuSans-54\"/>\r\n      </defs>\r\n      <g transform=\"translate(7.2 73.124933)scale(0.1 -0.1)\">\r\n       <use xlink:href=\"#DejaVuSans-54\"/>\r\n      </g>\r\n     </g>\r\n    </g>\r\n    <g id=\"ytick_8\">\r\n     <g id=\"line2d_14\">\r\n      <g>\r\n       <use style=\"stroke:#000000;stroke-width:0.8;\" x=\"20.5625\" xlink:href=\"#m5f5bcd102c\" y=\"43.44\"/>\r\n      </g>\r\n     </g>\r\n     <g id=\"text_14\">\r\n      <!-- 7 -->\r\n      <defs>\r\n       <path d=\"M 8.203125 72.90625 \r\nL 55.078125 72.90625 \r\nL 55.078125 68.703125 \r\nL 28.609375 0 \r\nL 18.3125 0 \r\nL 43.21875 64.59375 \r\nL 8.203125 64.59375 \r\nz\r\n\" id=\"DejaVuSans-55\"/>\r\n      </defs>\r\n      <g transform=\"translate(7.2 47.239219)scale(0.1 -0.1)\">\r\n       <use xlink:href=\"#DejaVuSans-55\"/>\r\n      </g>\r\n     </g>\r\n    </g>\r\n    <g id=\"ytick_9\">\r\n     <g id=\"line2d_15\">\r\n      <g>\r\n       <use style=\"stroke:#000000;stroke-width:0.8;\" x=\"20.5625\" xlink:href=\"#m5f5bcd102c\" y=\"17.554286\"/>\r\n      </g>\r\n     </g>\r\n     <g id=\"text_15\">\r\n      <!-- 8 -->\r\n      <defs>\r\n       <path d=\"M 31.78125 34.625 \r\nQ 24.75 34.625 20.71875 30.859375 \r\nQ 16.703125 27.09375 16.703125 20.515625 \r\nQ 16.703125 13.921875 20.71875 10.15625 \r\nQ 24.75 6.390625 31.78125 6.390625 \r\nQ 38.8125 6.390625 42.859375 10.171875 \r\nQ 46.921875 13.96875 46.921875 20.515625 \r\nQ 46.921875 27.09375 42.890625 30.859375 \r\nQ 38.875 34.625 31.78125 34.625 \r\nz\r\nM 21.921875 38.8125 \r\nQ 15.578125 40.375 12.03125 44.71875 \r\nQ 8.5 49.078125 8.5 55.328125 \r\nQ 8.5 64.0625 14.71875 69.140625 \r\nQ 20.953125 74.21875 31.78125 74.21875 \r\nQ 42.671875 74.21875 48.875 69.140625 \r\nQ 55.078125 64.0625 55.078125 55.328125 \r\nQ 55.078125 49.078125 51.53125 44.71875 \r\nQ 48 40.375 41.703125 38.8125 \r\nQ 48.828125 37.15625 52.796875 32.3125 \r\nQ 56.78125 27.484375 56.78125 20.515625 \r\nQ 56.78125 9.90625 50.3125 4.234375 \r\nQ 43.84375 -1.421875 31.78125 -1.421875 \r\nQ 19.734375 -1.421875 13.25 4.234375 \r\nQ 6.78125 9.90625 6.78125 20.515625 \r\nQ 6.78125 27.484375 10.78125 32.3125 \r\nQ 14.796875 37.15625 21.921875 38.8125 \r\nz\r\nM 18.3125 54.390625 \r\nQ 18.3125 48.734375 21.84375 45.5625 \r\nQ 25.390625 42.390625 31.78125 42.390625 \r\nQ 38.140625 42.390625 41.71875 45.5625 \r\nQ 45.3125 48.734375 45.3125 54.390625 \r\nQ 45.3125 60.0625 41.71875 63.234375 \r\nQ 38.140625 66.40625 31.78125 66.40625 \r\nQ 25.390625 66.40625 21.84375 63.234375 \r\nQ 18.3125 60.0625 18.3125 54.390625 \r\nz\r\n\" id=\"DejaVuSans-56\"/>\r\n      </defs>\r\n      <g transform=\"translate(7.2 21.353504)scale(0.1 -0.1)\">\r\n       <use xlink:href=\"#DejaVuSans-56\"/>\r\n      </g>\r\n     </g>\r\n    </g>\r\n   </g>\r\n   <g id=\"patch_18\">\r\n    <path d=\"M 20.5625 224.64 \r\nL 20.5625 7.2 \r\n\" style=\"fill:none;stroke:#000000;stroke-linecap:square;stroke-linejoin:miter;stroke-width:0.8;\"/>\r\n   </g>\r\n   <g id=\"patch_19\">\r\n    <path d=\"M 355.3625 224.64 \r\nL 355.3625 7.2 \r\n\" style=\"fill:none;stroke:#000000;stroke-linecap:square;stroke-linejoin:miter;stroke-width:0.8;\"/>\r\n   </g>\r\n   <g id=\"patch_20\">\r\n    <path d=\"M 20.5625 224.64 \r\nL 355.3625 224.64 \r\n\" style=\"fill:none;stroke:#000000;stroke-linecap:square;stroke-linejoin:miter;stroke-width:0.8;\"/>\r\n   </g>\r\n   <g id=\"patch_21\">\r\n    <path d=\"M 20.5625 7.2 \r\nL 355.3625 7.2 \r\n\" style=\"fill:none;stroke:#000000;stroke-linecap:square;stroke-linejoin:miter;stroke-width:0.8;\"/>\r\n   </g>\r\n  </g>\r\n </g>\r\n <defs>\r\n  <clipPath id=\"pc6c9ae631b\">\r\n   <rect height=\"217.44\" width=\"334.8\" x=\"20.5625\" y=\"7.2\"/>\r\n  </clipPath>\r\n </defs>\r\n</svg>\r\n",
      "image/png": "[encoded data removed]"
     },
     "metadata": {
      "needs_background": "light"
     }
    }
   ],
   "source": [
    "plt.hist(range_1['數量'], bins=15)"
   ]
  },
  {
   "cell_type": "code",
   "execution_count": 30,
   "metadata": {},
   "outputs": [],
   "source": [
    "LF574.to_excel(\"LF574.xlsx\", index=False)"
   ]
  },
  {
   "source": [
    "## 處理流量"
   ],
   "cell_type": "markdown",
   "metadata": {}
  },
  {
   "cell_type": "code",
   "execution_count": 7,
   "metadata": {},
   "outputs": [],
   "source": [
    "momo = pd.read_excel(\"momo流量.xls\", skiprows=2)"
   ]
  },
  {
   "cell_type": "code",
   "execution_count": 8,
   "metadata": {},
   "outputs": [],
   "source": [
    "scaler = StandardScaler(with_mean=False)\n",
    "momo[momo.columns[-2:]] = scaler.fit_transform(momo[momo.columns[-2:]])"
   ]
  },
  {
   "cell_type": "code",
   "execution_count": 9,
   "metadata": {},
   "outputs": [],
   "source": [
    "momo.drop(\"訂購金額\", axis=1, inplace=True)"
   ]
  },
  {
   "cell_type": "code",
   "execution_count": 10,
   "metadata": {},
   "outputs": [],
   "source": [
    "momo['seq_no'] = range(1, len(momo)+1)"
   ]
  },
  {
   "cell_type": "code",
   "execution_count": 11,
   "metadata": {},
   "outputs": [],
   "source": [
    "momo.to_excel(\"A_流量資料.xlsx\")"
   ]
  },
  {
   "cell_type": "code",
   "execution_count": 12,
   "metadata": {},
   "outputs": [
    {
     "output_type": "execute_result",
     "data": {
      "text/plain": [
       "        日期       造訪數       瀏覽數  seq_no\n",
       "0    01/01  0.227278  0.192655       1\n",
       "1    01/02  0.196609  0.149329       2\n",
       "2    01/03  0.219885  0.170214       3\n",
       "3    01/04  0.290259  0.217777       4\n",
       "4    01/05  0.262602  0.203378       5\n",
       "..     ...       ...       ...     ...\n",
       "269  09/26  1.661047  1.753861     270\n",
       "270  09/27  2.124366  2.350770     271\n",
       "271  09/28  1.478677  1.447185     272\n",
       "272  09/29  1.865324  1.723147     273\n",
       "273  09/30  1.419530  1.416063     274\n",
       "\n",
       "[274 rows x 4 columns]"
      ],
      "text/html": "<div>\n<style scoped>\n    .dataframe tbody tr th:only-of-type {\n        vertical-align: middle;\n    }\n\n    .dataframe tbody tr th {\n        vertical-align: top;\n    }\n\n    .dataframe thead th {\n        text-align: right;\n    }\n</style>\n<table border=\"1\" class=\"dataframe\">\n  <thead>\n    <tr style=\"text-align: right;\">\n      <th></th>\n      <th>日期</th>\n      <th>造訪數</th>\n      <th>瀏覽數</th>\n      <th>seq_no</th>\n    </tr>\n  </thead>\n  <tbody>\n    <tr>\n      <th>0</th>\n      <td>01/01</td>\n      <td>0.227278</td>\n      <td>0.192655</td>\n      <td>1</td>\n    </tr>\n    <tr>\n      <th>1</th>\n      <td>01/02</td>\n      <td>0.196609</td>\n      <td>0.149329</td>\n      <td>2</td>\n    </tr>\n    <tr>\n      <th>2</th>\n      <td>01/03</td>\n      <td>0.219885</td>\n      <td>0.170214</td>\n      <td>3</td>\n    </tr>\n    <tr>\n      <th>3</th>\n      <td>01/04</td>\n      <td>0.290259</td>\n      <td>0.217777</td>\n      <td>4</td>\n    </tr>\n    <tr>\n      <th>4</th>\n      <td>01/05</td>\n      <td>0.262602</td>\n      <td>0.203378</td>\n      <td>5</td>\n    </tr>\n    <tr>\n      <th>...</th>\n      <td>...</td>\n      <td>...</td>\n      <td>...</td>\n      <td>...</td>\n    </tr>\n    <tr>\n      <th>269</th>\n      <td>09/26</td>\n      <td>1.661047</td>\n      <td>1.753861</td>\n      <td>270</td>\n    </tr>\n    <tr>\n      <th>270</th>\n      <td>09/27</td>\n      <td>2.124366</td>\n      <td>2.350770</td>\n      <td>271</td>\n    </tr>\n    <tr>\n      <th>271</th>\n      <td>09/28</td>\n      <td>1.478677</td>\n      <td>1.447185</td>\n      <td>272</td>\n    </tr>\n    <tr>\n      <th>272</th>\n      <td>09/29</td>\n      <td>1.865324</td>\n      <td>1.723147</td>\n      <td>273</td>\n    </tr>\n    <tr>\n      <th>273</th>\n      <td>09/30</td>\n      <td>1.419530</td>\n      <td>1.416063</td>\n      <td>274</td>\n    </tr>\n  </tbody>\n</table>\n<p>274 rows × 4 columns</p>\n</div>"
     },
     "metadata": {},
     "execution_count": 12
    }
   ],
   "source": [
    "momo"
   ]
  },
  {
   "cell_type": "code",
   "execution_count": 13,
   "metadata": {},
   "outputs": [],
   "source": [
    "yahoo = pd.read_excel(\"yahoo購物中心流量.xlsx\")"
   ]
  },
  {
   "cell_type": "code",
   "execution_count": 14,
   "metadata": {},
   "outputs": [],
   "source": [
    "yahoo['seq_no'] = range(1, len(yahoo)+1)"
   ]
  },
  {
   "cell_type": "code",
   "execution_count": 15,
   "metadata": {},
   "outputs": [],
   "source": [
    "imputer = KNNImputer(n_neighbors=2)\n",
    "yahoo[['seq_no', \"瀏覽量\"]] = imputer.fit_transform(yahoo[['seq_no', \"瀏覽量\"]])"
   ]
  },
  {
   "cell_type": "code",
   "execution_count": 16,
   "metadata": {},
   "outputs": [],
   "source": [
    "scaler = StandardScaler(with_mean=False)\n",
    "yahoo['瀏覽量'] = scaler.fit_transform(np.array(yahoo['瀏覽量']).reshape(-1, 1))"
   ]
  },
  {
   "cell_type": "code",
   "execution_count": 17,
   "metadata": {},
   "outputs": [],
   "source": [
    "yahoo.to_excel(\"B_流量資料.xlsx\")"
   ]
  },
  {
   "cell_type": "code",
   "execution_count": 18,
   "metadata": {},
   "outputs": [],
   "source": [
    "shopee = pd.read_excel(\"蝦皮流量.xlsx\")"
   ]
  },
  {
   "cell_type": "code",
   "execution_count": 19,
   "metadata": {},
   "outputs": [
    {
     "output_type": "execute_result",
     "data": {
      "text/plain": [
       "Index(['日期', '總銷售額 (TWD)', '訂單總數', '平均訂單金額', '商品頁面瀏覽數', '訪客數', '訂單轉換率(可出貨訂單)',\n",
       "       '買家數', '新買家數', '舊買家數', '潛在買家數', '回購率'],\n",
       "      dtype='object')"
      ]
     },
     "metadata": {},
     "execution_count": 19
    }
   ],
   "source": [
    "shopee.columns"
   ]
  },
  {
   "cell_type": "code",
   "execution_count": 20,
   "metadata": {},
   "outputs": [],
   "source": [
    "shopee = shopee[['日期', '商品頁面瀏覽數', '訪客數']]"
   ]
  },
  {
   "cell_type": "code",
   "execution_count": 21,
   "metadata": {},
   "outputs": [],
   "source": [
    "scaler = StandardScaler(with_mean=False)\n",
    "shopee[shopee.columns[-2:]] = scaler.fit_transform(shopee[shopee.columns[-2:]])"
   ]
  },
  {
   "cell_type": "code",
   "execution_count": 22,
   "metadata": {},
   "outputs": [
    {
     "output_type": "execute_result",
     "data": {
      "text/plain": [
       "             日期   商品頁面瀏覽數       訪客數\n",
       "0    2020-01-01  0.004778  0.013793\n",
       "1    2020-01-02  0.003893  0.010966\n",
       "2    2020-01-03  0.003759  0.010537\n",
       "3    2020-01-04  0.002924  0.008053\n",
       "4    2020-01-05  0.004160  0.011822\n",
       "..          ...       ...       ...\n",
       "269  2020-07-27  1.877519  1.880605\n",
       "270  2020-07-28  0.377582  0.409498\n",
       "271  2020-07-29  0.153489  0.196525\n",
       "272  2020-07-30  0.137467  0.166026\n",
       "273  2020-07-31  0.129230  0.153861\n",
       "\n",
       "[274 rows x 3 columns]"
      ],
      "text/html": "<div>\n<style scoped>\n    .dataframe tbody tr th:only-of-type {\n        vertical-align: middle;\n    }\n\n    .dataframe tbody tr th {\n        vertical-align: top;\n    }\n\n    .dataframe thead th {\n        text-align: right;\n    }\n</style>\n<table border=\"1\" class=\"dataframe\">\n  <thead>\n    <tr style=\"text-align: right;\">\n      <th></th>\n      <th>日期</th>\n      <th>商品頁面瀏覽數</th>\n      <th>訪客數</th>\n    </tr>\n  </thead>\n  <tbody>\n    <tr>\n      <th>0</th>\n      <td>2020-01-01</td>\n      <td>0.004778</td>\n      <td>0.013793</td>\n    </tr>\n    <tr>\n      <th>1</th>\n      <td>2020-01-02</td>\n      <td>0.003893</td>\n      <td>0.010966</td>\n    </tr>\n    <tr>\n      <th>2</th>\n      <td>2020-01-03</td>\n      <td>0.003759</td>\n      <td>0.010537</td>\n    </tr>\n    <tr>\n      <th>3</th>\n      <td>2020-01-04</td>\n      <td>0.002924</td>\n      <td>0.008053</td>\n    </tr>\n    <tr>\n      <th>4</th>\n      <td>2020-01-05</td>\n      <td>0.004160</td>\n      <td>0.011822</td>\n    </tr>\n    <tr>\n      <th>...</th>\n      <td>...</td>\n      <td>...</td>\n      <td>...</td>\n    </tr>\n    <tr>\n      <th>269</th>\n      <td>2020-07-27</td>\n      <td>1.877519</td>\n      <td>1.880605</td>\n    </tr>\n    <tr>\n      <th>270</th>\n      <td>2020-07-28</td>\n      <td>0.377582</td>\n      <td>0.409498</td>\n    </tr>\n    <tr>\n      <th>271</th>\n      <td>2020-07-29</td>\n      <td>0.153489</td>\n      <td>0.196525</td>\n    </tr>\n    <tr>\n      <th>272</th>\n      <td>2020-07-30</td>\n      <td>0.137467</td>\n      <td>0.166026</td>\n    </tr>\n    <tr>\n      <th>273</th>\n      <td>2020-07-31</td>\n      <td>0.129230</td>\n      <td>0.153861</td>\n    </tr>\n  </tbody>\n</table>\n<p>274 rows × 3 columns</p>\n</div>"
     },
     "metadata": {},
     "execution_count": 22
    }
   ],
   "source": [
    "shopee"
   ]
  },
  {
   "cell_type": "code",
   "execution_count": 23,
   "metadata": {},
   "outputs": [],
   "source": [
    "shopee = shopee.rename({\"商品頁面瀏覽數\": \"瀏覽數\", \"訪客數\": \"造訪數\"}, axis=1)"
   ]
  },
  {
   "cell_type": "code",
   "execution_count": 24,
   "metadata": {},
   "outputs": [],
   "source": [
    "shopee.to_excel(\"C_流量資料.xlsx\")"
   ]
  },
  {
   "cell_type": "code",
   "execution_count": 25,
   "metadata": {},
   "outputs": [
    {
     "output_type": "execute_result",
     "data": {
      "text/plain": [
       "           Yahoo_活動深度 MOMO_活動深度 蝦皮_活動深度  MOMO_瀏覽數  Yahoo_瀏覽數  蝦皮_瀏覽數\n",
       "2020-03-01          小         小       中     24184     3372.0    9326\n",
       "2020-03-02          小         小       中     17756     3507.0    7887\n",
       "2020-03-03          小         小       中     47250     3264.0    7382\n",
       "2020-03-04          小         小       無     21442     3772.0    7234\n",
       "2020-03-05          小         小       無     25483     3260.0    9188\n",
       "...               ...       ...     ...       ...        ...     ...\n",
       "2020-09-26          小         小       大     68696     4786.0  112378\n",
       "2020-09-27          小         小       大     92076     4755.0   22600\n",
       "2020-09-28          小         小       小     56684     3884.0    9187\n",
       "2020-09-29          中         小       小     67493     7954.0    8228\n",
       "2020-09-30          中         小       小     55465     5746.0    7735\n",
       "\n",
       "[214 rows x 6 columns]"
      ],
      "text/html": "<div>\n<style scoped>\n    .dataframe tbody tr th:only-of-type {\n        vertical-align: middle;\n    }\n\n    .dataframe tbody tr th {\n        vertical-align: top;\n    }\n\n    .dataframe thead th {\n        text-align: right;\n    }\n</style>\n<table border=\"1\" class=\"dataframe\">\n  <thead>\n    <tr style=\"text-align: right;\">\n      <th></th>\n      <th>Yahoo_活動深度</th>\n      <th>MOMO_活動深度</th>\n      <th>蝦皮_活動深度</th>\n      <th>MOMO_瀏覽數</th>\n      <th>Yahoo_瀏覽數</th>\n      <th>蝦皮_瀏覽數</th>\n    </tr>\n  </thead>\n  <tbody>\n    <tr>\n      <th>2020-03-01</th>\n      <td>小</td>\n      <td>小</td>\n      <td>中</td>\n      <td>24184</td>\n      <td>3372.0</td>\n      <td>9326</td>\n    </tr>\n    <tr>\n      <th>2020-03-02</th>\n      <td>小</td>\n      <td>小</td>\n      <td>中</td>\n      <td>17756</td>\n      <td>3507.0</td>\n      <td>7887</td>\n    </tr>\n    <tr>\n      <th>2020-03-03</th>\n      <td>小</td>\n      <td>小</td>\n      <td>中</td>\n      <td>47250</td>\n      <td>3264.0</td>\n      <td>7382</td>\n    </tr>\n    <tr>\n      <th>2020-03-04</th>\n      <td>小</td>\n      <td>小</td>\n      <td>無</td>\n      <td>21442</td>\n      <td>3772.0</td>\n      <td>7234</td>\n    </tr>\n    <tr>\n      <th>2020-03-05</th>\n      <td>小</td>\n      <td>小</td>\n      <td>無</td>\n      <td>25483</td>\n      <td>3260.0</td>\n      <td>9188</td>\n    </tr>\n    <tr>\n      <th>...</th>\n      <td>...</td>\n      <td>...</td>\n      <td>...</td>\n      <td>...</td>\n      <td>...</td>\n      <td>...</td>\n    </tr>\n    <tr>\n      <th>2020-09-26</th>\n      <td>小</td>\n      <td>小</td>\n      <td>大</td>\n      <td>68696</td>\n      <td>4786.0</td>\n      <td>112378</td>\n    </tr>\n    <tr>\n      <th>2020-09-27</th>\n      <td>小</td>\n      <td>小</td>\n      <td>大</td>\n      <td>92076</td>\n      <td>4755.0</td>\n      <td>22600</td>\n    </tr>\n    <tr>\n      <th>2020-09-28</th>\n      <td>小</td>\n      <td>小</td>\n      <td>小</td>\n      <td>56684</td>\n      <td>3884.0</td>\n      <td>9187</td>\n    </tr>\n    <tr>\n      <th>2020-09-29</th>\n      <td>中</td>\n      <td>小</td>\n      <td>小</td>\n      <td>67493</td>\n      <td>7954.0</td>\n      <td>8228</td>\n    </tr>\n    <tr>\n      <th>2020-09-30</th>\n      <td>中</td>\n      <td>小</td>\n      <td>小</td>\n      <td>55465</td>\n      <td>5746.0</td>\n      <td>7735</td>\n    </tr>\n  </tbody>\n</table>\n<p>214 rows × 6 columns</p>\n</div>"
     },
     "metadata": {},
     "execution_count": 25
    }
   ],
   "source": [
    "total_flow = pd.read_excel(\"活動與流量統整.xlsx\", index_col=0)\n",
    "total_flow"
   ]
  },
  {
   "cell_type": "code",
   "execution_count": 26,
   "metadata": {},
   "outputs": [],
   "source": [
    "col = []\n",
    "for i in total_flow.columns:\n",
    "    i = i.replace(\"Yahoo\", \"B\").replace(\"YAHOO\", \"B\").replace(\"MOMO\", \"A\").replace(\"蝦皮\", \"C\")\n",
    "    col.append(i)\n",
    "total_flow.columns = col"
   ]
  },
  {
   "cell_type": "code",
   "execution_count": 27,
   "metadata": {},
   "outputs": [],
   "source": [
    "total_flow['Weeknum'] = total_flow.reset_index()['index'].apply(lambda x: int(x.strftime(\"%V\"))).to_list()"
   ]
  },
  {
   "cell_type": "code",
   "execution_count": 28,
   "metadata": {},
   "outputs": [],
   "source": [
    "for i in ['A', 'B', 'C']:\n",
    "    scaler = StandardScaler(with_mean=False)\n",
    "    total_flow[i+'_瀏覽數'] = scaler.fit_transform(np.array(total_flow[i+'_瀏覽數']).reshape(-1, 1))"
   ]
  },
  {
   "cell_type": "code",
   "execution_count": 29,
   "metadata": {},
   "outputs": [
    {
     "output_type": "execute_result",
     "data": {
      "text/plain": [
       "           B_活動深度 A_活動深度 C_活動深度     A_瀏覽數     B_瀏覽數     C_瀏覽數  Weeknum\n",
       "2020-03-01      小      小      中  0.596181  0.654371  0.143482        9\n",
       "2020-03-02      小      小      中  0.437719  0.680569  0.121342       10\n",
       "2020-03-03      小      小      中  1.164802  0.633413  0.113573       10\n",
       "2020-03-04      小      小      無  0.528586  0.731995  0.111296       10\n",
       "2020-03-05      小      小      無  0.628204  0.632636  0.141358       10\n",
       "...           ...    ...    ...       ...       ...       ...      ...\n",
       "2020-09-26      小      小      大  1.693486  0.928772  1.728948       39\n",
       "2020-09-27      小      小      大  2.269847  0.922756  0.347704       39\n",
       "2020-09-28      小      小      小  1.397368  0.753730  0.141343       40\n",
       "2020-09-29      中      小      小  1.663830  1.543555  0.126589       40\n",
       "2020-09-30      中      小      小  1.367317  1.115070  0.119004       40\n",
       "\n",
       "[214 rows x 7 columns]"
      ],
      "text/html": "<div>\n<style scoped>\n    .dataframe tbody tr th:only-of-type {\n        vertical-align: middle;\n    }\n\n    .dataframe tbody tr th {\n        vertical-align: top;\n    }\n\n    .dataframe thead th {\n        text-align: right;\n    }\n</style>\n<table border=\"1\" class=\"dataframe\">\n  <thead>\n    <tr style=\"text-align: right;\">\n      <th></th>\n      <th>B_活動深度</th>\n      <th>A_活動深度</th>\n      <th>C_活動深度</th>\n      <th>A_瀏覽數</th>\n      <th>B_瀏覽數</th>\n      <th>C_瀏覽數</th>\n      <th>Weeknum</th>\n    </tr>\n  </thead>\n  <tbody>\n    <tr>\n      <th>2020-03-01</th>\n      <td>小</td>\n      <td>小</td>\n      <td>中</td>\n      <td>0.596181</td>\n      <td>0.654371</td>\n      <td>0.143482</td>\n      <td>9</td>\n    </tr>\n    <tr>\n      <th>2020-03-02</th>\n      <td>小</td>\n      <td>小</td>\n      <td>中</td>\n      <td>0.437719</td>\n      <td>0.680569</td>\n      <td>0.121342</td>\n      <td>10</td>\n    </tr>\n    <tr>\n      <th>2020-03-03</th>\n      <td>小</td>\n      <td>小</td>\n      <td>中</td>\n      <td>1.164802</td>\n      <td>0.633413</td>\n      <td>0.113573</td>\n      <td>10</td>\n    </tr>\n    <tr>\n      <th>2020-03-04</th>\n      <td>小</td>\n      <td>小</td>\n      <td>無</td>\n      <td>0.528586</td>\n      <td>0.731995</td>\n      <td>0.111296</td>\n      <td>10</td>\n    </tr>\n    <tr>\n      <th>2020-03-05</th>\n      <td>小</td>\n      <td>小</td>\n      <td>無</td>\n      <td>0.628204</td>\n      <td>0.632636</td>\n      <td>0.141358</td>\n      <td>10</td>\n    </tr>\n    <tr>\n      <th>...</th>\n      <td>...</td>\n      <td>...</td>\n      <td>...</td>\n      <td>...</td>\n      <td>...</td>\n      <td>...</td>\n      <td>...</td>\n    </tr>\n    <tr>\n      <th>2020-09-26</th>\n      <td>小</td>\n      <td>小</td>\n      <td>大</td>\n      <td>1.693486</td>\n      <td>0.928772</td>\n      <td>1.728948</td>\n      <td>39</td>\n    </tr>\n    <tr>\n      <th>2020-09-27</th>\n      <td>小</td>\n      <td>小</td>\n      <td>大</td>\n      <td>2.269847</td>\n      <td>0.922756</td>\n      <td>0.347704</td>\n      <td>39</td>\n    </tr>\n    <tr>\n      <th>2020-09-28</th>\n      <td>小</td>\n      <td>小</td>\n      <td>小</td>\n      <td>1.397368</td>\n      <td>0.753730</td>\n      <td>0.141343</td>\n      <td>40</td>\n    </tr>\n    <tr>\n      <th>2020-09-29</th>\n      <td>中</td>\n      <td>小</td>\n      <td>小</td>\n      <td>1.663830</td>\n      <td>1.543555</td>\n      <td>0.126589</td>\n      <td>40</td>\n    </tr>\n    <tr>\n      <th>2020-09-30</th>\n      <td>中</td>\n      <td>小</td>\n      <td>小</td>\n      <td>1.367317</td>\n      <td>1.115070</td>\n      <td>0.119004</td>\n      <td>40</td>\n    </tr>\n  </tbody>\n</table>\n<p>214 rows × 7 columns</p>\n</div>"
     },
     "metadata": {},
     "execution_count": 29
    }
   ],
   "source": [
    "total_flow"
   ]
  },
  {
   "cell_type": "code",
   "execution_count": 30,
   "metadata": {},
   "outputs": [],
   "source": [
    "total_flow.to_excel(\"activity_flow.xlsx\")"
   ]
  },
  {
   "cell_type": "code",
   "execution_count": 34,
   "metadata": {},
   "outputs": [],
   "source": [
    "total_flow = pd.read_excel(\"activity_flow.xlsx\", index_col=0)"
   ]
  },
  {
   "cell_type": "code",
   "execution_count": 40,
   "metadata": {},
   "outputs": [
    {
     "output_type": "execute_result",
     "data": {
      "text/plain": [
       "           A_瀏覽數\n",
       "            mean\n",
       "A_活動深度          \n",
       "中       1.545182\n",
       "大       4.445274\n",
       "小       0.987811"
      ],
      "text/html": "<div>\n<style scoped>\n    .dataframe tbody tr th:only-of-type {\n        vertical-align: middle;\n    }\n\n    .dataframe tbody tr th {\n        vertical-align: top;\n    }\n\n    .dataframe thead tr th {\n        text-align: left;\n    }\n\n    .dataframe thead tr:last-of-type th {\n        text-align: right;\n    }\n</style>\n<table border=\"1\" class=\"dataframe\">\n  <thead>\n    <tr>\n      <th></th>\n      <th>A_瀏覽數</th>\n    </tr>\n    <tr>\n      <th></th>\n      <th>mean</th>\n    </tr>\n    <tr>\n      <th>A_活動深度</th>\n      <th></th>\n    </tr>\n  </thead>\n  <tbody>\n    <tr>\n      <th>中</th>\n      <td>1.545182</td>\n    </tr>\n    <tr>\n      <th>大</th>\n      <td>4.445274</td>\n    </tr>\n    <tr>\n      <th>小</th>\n      <td>0.987811</td>\n    </tr>\n  </tbody>\n</table>\n</div>"
     },
     "metadata": {},
     "execution_count": 40
    }
   ],
   "source": [
    "type_pivot = total_flow.pivot_table(index=\"A_活動深度\", aggfunc={\"A_瀏覽數\": [np.mean]})\n",
    "type_pivot"
   ]
  },
  {
   "cell_type": "code",
   "execution_count": 44,
   "metadata": {},
   "outputs": [
    {
     "output_type": "execute_result",
     "data": {
      "text/plain": [
       "           B_活動深度 A_活動深度 C_活動深度\n",
       "2020-03-01      小      小      中\n",
       "2020-03-02      小      小      中\n",
       "2020-03-03      小      小      中\n",
       "2020-03-04      小      小      無\n",
       "2020-03-05      小      小      無\n",
       "...           ...    ...    ...\n",
       "2020-09-26      小      小      大\n",
       "2020-09-27      小      小      大\n",
       "2020-09-28      小      小      小\n",
       "2020-09-29      中      小      小\n",
       "2020-09-30      中      小      小\n",
       "\n",
       "[214 rows x 3 columns]"
      ],
      "text/html": "<div>\n<style scoped>\n    .dataframe tbody tr th:only-of-type {\n        vertical-align: middle;\n    }\n\n    .dataframe tbody tr th {\n        vertical-align: top;\n    }\n\n    .dataframe thead th {\n        text-align: right;\n    }\n</style>\n<table border=\"1\" class=\"dataframe\">\n  <thead>\n    <tr style=\"text-align: right;\">\n      <th></th>\n      <th>B_活動深度</th>\n      <th>A_活動深度</th>\n      <th>C_活動深度</th>\n    </tr>\n  </thead>\n  <tbody>\n    <tr>\n      <th>2020-03-01</th>\n      <td>小</td>\n      <td>小</td>\n      <td>中</td>\n    </tr>\n    <tr>\n      <th>2020-03-02</th>\n      <td>小</td>\n      <td>小</td>\n      <td>中</td>\n    </tr>\n    <tr>\n      <th>2020-03-03</th>\n      <td>小</td>\n      <td>小</td>\n      <td>中</td>\n    </tr>\n    <tr>\n      <th>2020-03-04</th>\n      <td>小</td>\n      <td>小</td>\n      <td>無</td>\n    </tr>\n    <tr>\n      <th>2020-03-05</th>\n      <td>小</td>\n      <td>小</td>\n      <td>無</td>\n    </tr>\n    <tr>\n      <th>...</th>\n      <td>...</td>\n      <td>...</td>\n      <td>...</td>\n    </tr>\n    <tr>\n      <th>2020-09-26</th>\n      <td>小</td>\n      <td>小</td>\n      <td>大</td>\n    </tr>\n    <tr>\n      <th>2020-09-27</th>\n      <td>小</td>\n      <td>小</td>\n      <td>大</td>\n    </tr>\n    <tr>\n      <th>2020-09-28</th>\n      <td>小</td>\n      <td>小</td>\n      <td>小</td>\n    </tr>\n    <tr>\n      <th>2020-09-29</th>\n      <td>中</td>\n      <td>小</td>\n      <td>小</td>\n    </tr>\n    <tr>\n      <th>2020-09-30</th>\n      <td>中</td>\n      <td>小</td>\n      <td>小</td>\n    </tr>\n  </tbody>\n</table>\n<p>214 rows × 3 columns</p>\n</div>"
     },
     "metadata": {},
     "execution_count": 44
    }
   ],
   "source": [
    "channel_activity = total_flow[total_flow.columns[:3]]"
   ]
  },
  {
   "cell_type": "code",
   "execution_count": 35,
   "metadata": {},
   "outputs": [
    {
     "output_type": "execute_result",
     "data": {
      "text/plain": [
       "           B_活動深度 A_活動深度 C_活動深度     A_瀏覽數     B_瀏覽數     C_瀏覽數  Weeknum\n",
       "2020-03-01      小      小      中  0.596181  0.654371  0.143482        9\n",
       "2020-03-02      小      小      中  0.437719  0.680569  0.121342       10\n",
       "2020-03-03      小      小      中  1.164802  0.633413  0.113573       10\n",
       "2020-03-04      小      小      無  0.528586  0.731995  0.111296       10\n",
       "2020-03-05      小      小      無  0.628204  0.632636  0.141358       10\n",
       "...           ...    ...    ...       ...       ...       ...      ...\n",
       "2020-09-26      小      小      大  1.693486  0.928772  1.728948       39\n",
       "2020-09-27      小      小      大  2.269847  0.922756  0.347704       39\n",
       "2020-09-28      小      小      小  1.397368  0.753730  0.141343       40\n",
       "2020-09-29      中      小      小  1.663830  1.543555  0.126589       40\n",
       "2020-09-30      中      小      小  1.367317  1.115070  0.119004       40\n",
       "\n",
       "[214 rows x 7 columns]"
      ],
      "text/html": "<div>\n<style scoped>\n    .dataframe tbody tr th:only-of-type {\n        vertical-align: middle;\n    }\n\n    .dataframe tbody tr th {\n        vertical-align: top;\n    }\n\n    .dataframe thead th {\n        text-align: right;\n    }\n</style>\n<table border=\"1\" class=\"dataframe\">\n  <thead>\n    <tr style=\"text-align: right;\">\n      <th></th>\n      <th>B_活動深度</th>\n      <th>A_活動深度</th>\n      <th>C_活動深度</th>\n      <th>A_瀏覽數</th>\n      <th>B_瀏覽數</th>\n      <th>C_瀏覽數</th>\n      <th>Weeknum</th>\n    </tr>\n  </thead>\n  <tbody>\n    <tr>\n      <th>2020-03-01</th>\n      <td>小</td>\n      <td>小</td>\n      <td>中</td>\n      <td>0.596181</td>\n      <td>0.654371</td>\n      <td>0.143482</td>\n      <td>9</td>\n    </tr>\n    <tr>\n      <th>2020-03-02</th>\n      <td>小</td>\n      <td>小</td>\n      <td>中</td>\n      <td>0.437719</td>\n      <td>0.680569</td>\n      <td>0.121342</td>\n      <td>10</td>\n    </tr>\n    <tr>\n      <th>2020-03-03</th>\n      <td>小</td>\n      <td>小</td>\n      <td>中</td>\n      <td>1.164802</td>\n      <td>0.633413</td>\n      <td>0.113573</td>\n      <td>10</td>\n    </tr>\n    <tr>\n      <th>2020-03-04</th>\n      <td>小</td>\n      <td>小</td>\n      <td>無</td>\n      <td>0.528586</td>\n      <td>0.731995</td>\n      <td>0.111296</td>\n      <td>10</td>\n    </tr>\n    <tr>\n      <th>2020-03-05</th>\n      <td>小</td>\n      <td>小</td>\n      <td>無</td>\n      <td>0.628204</td>\n      <td>0.632636</td>\n      <td>0.141358</td>\n      <td>10</td>\n    </tr>\n    <tr>\n      <th>...</th>\n      <td>...</td>\n      <td>...</td>\n      <td>...</td>\n      <td>...</td>\n      <td>...</td>\n      <td>...</td>\n      <td>...</td>\n    </tr>\n    <tr>\n      <th>2020-09-26</th>\n      <td>小</td>\n      <td>小</td>\n      <td>大</td>\n      <td>1.693486</td>\n      <td>0.928772</td>\n      <td>1.728948</td>\n      <td>39</td>\n    </tr>\n    <tr>\n      <th>2020-09-27</th>\n      <td>小</td>\n      <td>小</td>\n      <td>大</td>\n      <td>2.269847</td>\n      <td>0.922756</td>\n      <td>0.347704</td>\n      <td>39</td>\n    </tr>\n    <tr>\n      <th>2020-09-28</th>\n      <td>小</td>\n      <td>小</td>\n      <td>小</td>\n      <td>1.397368</td>\n      <td>0.753730</td>\n      <td>0.141343</td>\n      <td>40</td>\n    </tr>\n    <tr>\n      <th>2020-09-29</th>\n      <td>中</td>\n      <td>小</td>\n      <td>小</td>\n      <td>1.663830</td>\n      <td>1.543555</td>\n      <td>0.126589</td>\n      <td>40</td>\n    </tr>\n    <tr>\n      <th>2020-09-30</th>\n      <td>中</td>\n      <td>小</td>\n      <td>小</td>\n      <td>1.367317</td>\n      <td>1.115070</td>\n      <td>0.119004</td>\n      <td>40</td>\n    </tr>\n  </tbody>\n</table>\n<p>214 rows × 7 columns</p>\n</div>"
     },
     "metadata": {},
     "execution_count": 35
    }
   ],
   "source": [
    "total_flow"
   ]
  },
  {
   "cell_type": "code",
   "execution_count": 72,
   "metadata": {},
   "outputs": [],
   "source": [
    "flow = {}\n",
    "for i in ['A', 'B', 'C']:\n",
    "    type_pivot = total_flow.pivot_table(index=i+\"_活動深度\", aggfunc={i+\"_瀏覽數\": [np.mean]})\n",
    "    weight = total_flow.pivot_table(index=\"Weeknum\", columns=i+\"_活動深度\", aggfunc={i+\"_瀏覽數\": ['count']})\n",
    "    if i == 'C':\n",
    "        weight.columns=['中_count', '大_count', '小_count', '無_count']\n",
    "    else:\n",
    "        weight.columns=['中_count', '大_count', '小_count']\n",
    "    weight.fillna(0, inplace=True)\n",
    "    weight['加權瀏覽數'] = np.dot(np.array(weight), np.array(type_pivot))/7\n",
    "\n",
    "    weight.reset_index(inplace=True)\n",
    "    weight.at[0,'加權瀏覽數'] = weight.loc[0]['加權瀏覽數']*7\n",
    "    flow[i] = weight['加權瀏覽數']"
   ]
  },
  {
   "cell_type": "code",
   "execution_count": 74,
   "metadata": {},
   "outputs": [],
   "source": [
    "flow = {}\n",
    "for i in ['A', 'B', 'C']:\n",
    "    type_pivot = total_flow.pivot_table(index=i+\"_活動深度\", aggfunc={i+\"_瀏覽數\": [np.mean]})\n",
    "    weight = total_flow.pivot_table(index=total_flow.index, columns=i+\"_活動深度\", aggfunc={i+\"_瀏覽數\": ['count']})\n",
    "    if i == 'C':\n",
    "        weight.columns=['中_count', '大_count', '小_count', '無_count']\n",
    "    else:\n",
    "        weight.columns=['中_count', '大_count', '小_count']\n",
    "    weight.fillna(0, inplace=True)\n",
    "    weight['加權瀏覽數'] = np.dot(np.array(weight), np.array(type_pivot))/7\n",
    "\n",
    "    weight.reset_index(inplace=True)\n",
    "    weight.at[0,'加權瀏覽數'] = weight.loc[0]['加權瀏覽數']*7\n",
    "    flow[i] = weight['加權瀏覽數']"
   ]
  },
  {
   "cell_type": "code",
   "execution_count": 75,
   "metadata": {},
   "outputs": [
    {
     "output_type": "execute_result",
     "data": {
      "text/plain": [
       "0      0.987811\n",
       "1      0.141116\n",
       "2      0.141116\n",
       "3      0.141116\n",
       "4      0.141116\n",
       "         ...   \n",
       "209    0.141116\n",
       "210    0.141116\n",
       "211    0.141116\n",
       "212    0.141116\n",
       "213    0.141116\n",
       "Name: 加權瀏覽數, Length: 214, dtype: float64"
      ]
     },
     "metadata": {},
     "execution_count": 75
    }
   ],
   "source": [
    "flow['A']"
   ]
  }
 ]
}